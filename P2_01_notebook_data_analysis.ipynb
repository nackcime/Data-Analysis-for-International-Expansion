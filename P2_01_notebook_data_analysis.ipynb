{
 "cells": [
  {
   "cell_type": "code",
   "execution_count": 243,
   "id": "0d1ef20e",
   "metadata": {},
   "outputs": [],
   "source": [
    "import pandas as pd\n",
    "import numpy as np\n",
    "import matplotlib.pyplot as plt"
   ]
  },
  {
   "cell_type": "markdown",
   "id": "c063ffdd",
   "metadata": {},
   "source": [
    "#### Importation données"
   ]
  },
  {
   "cell_type": "code",
   "execution_count": 244,
   "id": "1f390cec",
   "metadata": {},
   "outputs": [],
   "source": [
    "country_data = pd.read_csv('EdStatsData.csv', sep=',')"
   ]
  },
  {
   "cell_type": "code",
   "execution_count": 245,
   "id": "e14099c8",
   "metadata": {},
   "outputs": [],
   "source": [
    "country_series_data = pd.read_csv('EdStatsCountry-Series.csv', sep=',')\n",
    "country = pd.read_csv('EdStatsCountry.csv', sep=',')\n",
    "foot_note = pd.read_csv('EdStatsFootNote.csv', sep=',')\n",
    "series_data = pd.read_csv('EdStatsSeries.csv', sep=',')"
   ]
  },
  {
   "cell_type": "markdown",
   "id": "f3cd266e",
   "metadata": {},
   "source": [
    "## Information sur les données de manière générale"
   ]
  },
  {
   "cell_type": "code",
   "execution_count": 246,
   "id": "cab523ec",
   "metadata": {},
   "outputs": [
    {
     "data": {
      "text/html": [
       "<div>\n",
       "<style scoped>\n",
       "    .dataframe tbody tr th:only-of-type {\n",
       "        vertical-align: middle;\n",
       "    }\n",
       "\n",
       "    .dataframe tbody tr th {\n",
       "        vertical-align: top;\n",
       "    }\n",
       "\n",
       "    .dataframe thead th {\n",
       "        text-align: right;\n",
       "    }\n",
       "</style>\n",
       "<table border=\"1\" class=\"dataframe\">\n",
       "  <thead>\n",
       "    <tr style=\"text-align: right;\">\n",
       "      <th></th>\n",
       "      <th>CountryCode</th>\n",
       "      <th>SeriesCode</th>\n",
       "      <th>DESCRIPTION</th>\n",
       "      <th>Unnamed: 3</th>\n",
       "    </tr>\n",
       "  </thead>\n",
       "  <tbody>\n",
       "    <tr>\n",
       "      <th>0</th>\n",
       "      <td>ABW</td>\n",
       "      <td>SP.POP.TOTL</td>\n",
       "      <td>Data sources : United Nations World Population...</td>\n",
       "      <td>NaN</td>\n",
       "    </tr>\n",
       "    <tr>\n",
       "      <th>1</th>\n",
       "      <td>ABW</td>\n",
       "      <td>SP.POP.GROW</td>\n",
       "      <td>Data sources: United Nations World Population ...</td>\n",
       "      <td>NaN</td>\n",
       "    </tr>\n",
       "    <tr>\n",
       "      <th>2</th>\n",
       "      <td>AFG</td>\n",
       "      <td>SP.POP.GROW</td>\n",
       "      <td>Data sources: United Nations World Population ...</td>\n",
       "      <td>NaN</td>\n",
       "    </tr>\n",
       "    <tr>\n",
       "      <th>3</th>\n",
       "      <td>AFG</td>\n",
       "      <td>NY.GDP.PCAP.PP.CD</td>\n",
       "      <td>Estimates are based on regression.</td>\n",
       "      <td>NaN</td>\n",
       "    </tr>\n",
       "  </tbody>\n",
       "</table>\n",
       "</div>"
      ],
      "text/plain": [
       "  CountryCode         SeriesCode  \\\n",
       "0         ABW        SP.POP.TOTL   \n",
       "1         ABW        SP.POP.GROW   \n",
       "2         AFG        SP.POP.GROW   \n",
       "3         AFG  NY.GDP.PCAP.PP.CD   \n",
       "\n",
       "                                         DESCRIPTION  Unnamed: 3  \n",
       "0  Data sources : United Nations World Population...         NaN  \n",
       "1  Data sources: United Nations World Population ...         NaN  \n",
       "2  Data sources: United Nations World Population ...         NaN  \n",
       "3                 Estimates are based on regression.         NaN  "
      ]
     },
     "execution_count": 246,
     "metadata": {},
     "output_type": "execute_result"
    }
   ],
   "source": [
    "country_series_data.head(4)"
   ]
  },
  {
   "cell_type": "code",
   "execution_count": 247,
   "id": "ac792300",
   "metadata": {},
   "outputs": [
    {
     "data": {
      "text/plain": [
       "(613, 4)"
      ]
     },
     "execution_count": 247,
     "metadata": {},
     "output_type": "execute_result"
    }
   ],
   "source": [
    "country_series_data.shape"
   ]
  },
  {
   "cell_type": "code",
   "execution_count": 248,
   "id": "9de05dcc",
   "metadata": {},
   "outputs": [
    {
     "data": {
      "text/html": [
       "<div>\n",
       "<style scoped>\n",
       "    .dataframe tbody tr th:only-of-type {\n",
       "        vertical-align: middle;\n",
       "    }\n",
       "\n",
       "    .dataframe tbody tr th {\n",
       "        vertical-align: top;\n",
       "    }\n",
       "\n",
       "    .dataframe thead th {\n",
       "        text-align: right;\n",
       "    }\n",
       "</style>\n",
       "<table border=\"1\" class=\"dataframe\">\n",
       "  <thead>\n",
       "    <tr style=\"text-align: right;\">\n",
       "      <th></th>\n",
       "      <th>Country Code</th>\n",
       "      <th>Short Name</th>\n",
       "      <th>Table Name</th>\n",
       "      <th>Long Name</th>\n",
       "      <th>2-alpha code</th>\n",
       "      <th>Currency Unit</th>\n",
       "      <th>Special Notes</th>\n",
       "      <th>Region</th>\n",
       "      <th>Income Group</th>\n",
       "      <th>WB-2 code</th>\n",
       "      <th>...</th>\n",
       "      <th>IMF data dissemination standard</th>\n",
       "      <th>Latest population census</th>\n",
       "      <th>Latest household survey</th>\n",
       "      <th>Source of most recent Income and expenditure data</th>\n",
       "      <th>Vital registration complete</th>\n",
       "      <th>Latest agricultural census</th>\n",
       "      <th>Latest industrial data</th>\n",
       "      <th>Latest trade data</th>\n",
       "      <th>Latest water withdrawal data</th>\n",
       "      <th>Unnamed: 31</th>\n",
       "    </tr>\n",
       "  </thead>\n",
       "  <tbody>\n",
       "    <tr>\n",
       "      <th>0</th>\n",
       "      <td>ABW</td>\n",
       "      <td>Aruba</td>\n",
       "      <td>Aruba</td>\n",
       "      <td>Aruba</td>\n",
       "      <td>AW</td>\n",
       "      <td>Aruban florin</td>\n",
       "      <td>SNA data for 2000-2011 are updated from offici...</td>\n",
       "      <td>Latin America &amp; Caribbean</td>\n",
       "      <td>High income: nonOECD</td>\n",
       "      <td>AW</td>\n",
       "      <td>...</td>\n",
       "      <td>NaN</td>\n",
       "      <td>2010</td>\n",
       "      <td>NaN</td>\n",
       "      <td>NaN</td>\n",
       "      <td>Yes</td>\n",
       "      <td>NaN</td>\n",
       "      <td>NaN</td>\n",
       "      <td>2012.0</td>\n",
       "      <td>NaN</td>\n",
       "      <td>NaN</td>\n",
       "    </tr>\n",
       "    <tr>\n",
       "      <th>1</th>\n",
       "      <td>AFG</td>\n",
       "      <td>Afghanistan</td>\n",
       "      <td>Afghanistan</td>\n",
       "      <td>Islamic State of Afghanistan</td>\n",
       "      <td>AF</td>\n",
       "      <td>Afghan afghani</td>\n",
       "      <td>Fiscal year end: March 20; reporting period fo...</td>\n",
       "      <td>South Asia</td>\n",
       "      <td>Low income</td>\n",
       "      <td>AF</td>\n",
       "      <td>...</td>\n",
       "      <td>General Data Dissemination System (GDDS)</td>\n",
       "      <td>1979</td>\n",
       "      <td>Multiple Indicator Cluster Survey (MICS), 2010/11</td>\n",
       "      <td>Integrated household survey (IHS), 2008</td>\n",
       "      <td>NaN</td>\n",
       "      <td>2013/14</td>\n",
       "      <td>NaN</td>\n",
       "      <td>2012.0</td>\n",
       "      <td>2000</td>\n",
       "      <td>NaN</td>\n",
       "    </tr>\n",
       "  </tbody>\n",
       "</table>\n",
       "<p>2 rows × 32 columns</p>\n",
       "</div>"
      ],
      "text/plain": [
       "  Country Code   Short Name   Table Name                     Long Name  \\\n",
       "0          ABW        Aruba        Aruba                         Aruba   \n",
       "1          AFG  Afghanistan  Afghanistan  Islamic State of Afghanistan   \n",
       "\n",
       "  2-alpha code   Currency Unit  \\\n",
       "0           AW   Aruban florin   \n",
       "1           AF  Afghan afghani   \n",
       "\n",
       "                                       Special Notes  \\\n",
       "0  SNA data for 2000-2011 are updated from offici...   \n",
       "1  Fiscal year end: March 20; reporting period fo...   \n",
       "\n",
       "                      Region          Income Group WB-2 code  ...  \\\n",
       "0  Latin America & Caribbean  High income: nonOECD        AW  ...   \n",
       "1                 South Asia            Low income        AF  ...   \n",
       "\n",
       "            IMF data dissemination standard  Latest population census  \\\n",
       "0                                       NaN                      2010   \n",
       "1  General Data Dissemination System (GDDS)                      1979   \n",
       "\n",
       "                             Latest household survey  \\\n",
       "0                                                NaN   \n",
       "1  Multiple Indicator Cluster Survey (MICS), 2010/11   \n",
       "\n",
       "  Source of most recent Income and expenditure data  \\\n",
       "0                                               NaN   \n",
       "1           Integrated household survey (IHS), 2008   \n",
       "\n",
       "  Vital registration complete Latest agricultural census  \\\n",
       "0                         Yes                        NaN   \n",
       "1                         NaN                    2013/14   \n",
       "\n",
       "  Latest industrial data Latest trade data Latest water withdrawal data  \\\n",
       "0                    NaN            2012.0                          NaN   \n",
       "1                    NaN            2012.0                         2000   \n",
       "\n",
       "  Unnamed: 31  \n",
       "0         NaN  \n",
       "1         NaN  \n",
       "\n",
       "[2 rows x 32 columns]"
      ]
     },
     "execution_count": 248,
     "metadata": {},
     "output_type": "execute_result"
    }
   ],
   "source": [
    "country.head(2)"
   ]
  },
  {
   "cell_type": "code",
   "execution_count": 249,
   "id": "afd10ff0",
   "metadata": {},
   "outputs": [
    {
     "data": {
      "text/plain": [
       "(241, 32)"
      ]
     },
     "execution_count": 249,
     "metadata": {},
     "output_type": "execute_result"
    }
   ],
   "source": [
    "country.shape"
   ]
  },
  {
   "cell_type": "code",
   "execution_count": 250,
   "id": "f2baae7a",
   "metadata": {},
   "outputs": [
    {
     "data": {
      "text/html": [
       "<div>\n",
       "<style scoped>\n",
       "    .dataframe tbody tr th:only-of-type {\n",
       "        vertical-align: middle;\n",
       "    }\n",
       "\n",
       "    .dataframe tbody tr th {\n",
       "        vertical-align: top;\n",
       "    }\n",
       "\n",
       "    .dataframe thead th {\n",
       "        text-align: right;\n",
       "    }\n",
       "</style>\n",
       "<table border=\"1\" class=\"dataframe\">\n",
       "  <thead>\n",
       "    <tr style=\"text-align: right;\">\n",
       "      <th></th>\n",
       "      <th>CountryCode</th>\n",
       "      <th>SeriesCode</th>\n",
       "      <th>Year</th>\n",
       "      <th>DESCRIPTION</th>\n",
       "      <th>Unnamed: 4</th>\n",
       "    </tr>\n",
       "  </thead>\n",
       "  <tbody>\n",
       "    <tr>\n",
       "      <th>0</th>\n",
       "      <td>ABW</td>\n",
       "      <td>SE.PRE.ENRL.FE</td>\n",
       "      <td>YR2001</td>\n",
       "      <td>Country estimation.</td>\n",
       "      <td>NaN</td>\n",
       "    </tr>\n",
       "    <tr>\n",
       "      <th>1</th>\n",
       "      <td>ABW</td>\n",
       "      <td>SE.TER.TCHR.FE</td>\n",
       "      <td>YR2005</td>\n",
       "      <td>Country estimation.</td>\n",
       "      <td>NaN</td>\n",
       "    </tr>\n",
       "    <tr>\n",
       "      <th>2</th>\n",
       "      <td>ABW</td>\n",
       "      <td>SE.PRE.TCHR.FE</td>\n",
       "      <td>YR2000</td>\n",
       "      <td>Country estimation.</td>\n",
       "      <td>NaN</td>\n",
       "    </tr>\n",
       "    <tr>\n",
       "      <th>3</th>\n",
       "      <td>ABW</td>\n",
       "      <td>SE.SEC.ENRL.GC</td>\n",
       "      <td>YR2004</td>\n",
       "      <td>Country estimation.</td>\n",
       "      <td>NaN</td>\n",
       "    </tr>\n",
       "  </tbody>\n",
       "</table>\n",
       "</div>"
      ],
      "text/plain": [
       "  CountryCode      SeriesCode    Year          DESCRIPTION  Unnamed: 4\n",
       "0         ABW  SE.PRE.ENRL.FE  YR2001  Country estimation.         NaN\n",
       "1         ABW  SE.TER.TCHR.FE  YR2005  Country estimation.         NaN\n",
       "2         ABW  SE.PRE.TCHR.FE  YR2000  Country estimation.         NaN\n",
       "3         ABW  SE.SEC.ENRL.GC  YR2004  Country estimation.         NaN"
      ]
     },
     "execution_count": 250,
     "metadata": {},
     "output_type": "execute_result"
    }
   ],
   "source": [
    "foot_note.head(4)"
   ]
  },
  {
   "cell_type": "code",
   "execution_count": 251,
   "id": "47ef3828",
   "metadata": {},
   "outputs": [
    {
     "data": {
      "text/plain": [
       "(643638, 5)"
      ]
     },
     "execution_count": 251,
     "metadata": {},
     "output_type": "execute_result"
    }
   ],
   "source": [
    "foot_note.shape"
   ]
  },
  {
   "cell_type": "code",
   "execution_count": 338,
   "id": "eba73e83",
   "metadata": {},
   "outputs": [
    {
     "data": {
      "text/plain": [
       "Index(['Series Code', 'Topic', 'Indicator Name', 'Short definition',\n",
       "       'Long definition', 'Unit of measure', 'Periodicity', 'Base Period',\n",
       "       'Other notes', 'Aggregation method', 'Limitations and exceptions',\n",
       "       'Notes from original source', 'General comments', 'Source',\n",
       "       'Statistical concept and methodology', 'Development relevance',\n",
       "       'Related source links', 'Other web links', 'Related indicators',\n",
       "       'License Type', 'Unnamed: 20'],\n",
       "      dtype='object')"
      ]
     },
     "execution_count": 338,
     "metadata": {},
     "output_type": "execute_result"
    }
   ],
   "source": [
    "series_data.columns"
   ]
  },
  {
   "cell_type": "code",
   "execution_count": 252,
   "id": "e8535c8c",
   "metadata": {},
   "outputs": [
    {
     "data": {
      "text/html": [
       "<div>\n",
       "<style scoped>\n",
       "    .dataframe tbody tr th:only-of-type {\n",
       "        vertical-align: middle;\n",
       "    }\n",
       "\n",
       "    .dataframe tbody tr th {\n",
       "        vertical-align: top;\n",
       "    }\n",
       "\n",
       "    .dataframe thead th {\n",
       "        text-align: right;\n",
       "    }\n",
       "</style>\n",
       "<table border=\"1\" class=\"dataframe\">\n",
       "  <thead>\n",
       "    <tr style=\"text-align: right;\">\n",
       "      <th></th>\n",
       "      <th>Series Code</th>\n",
       "      <th>Topic</th>\n",
       "      <th>Indicator Name</th>\n",
       "      <th>Short definition</th>\n",
       "      <th>Long definition</th>\n",
       "      <th>Unit of measure</th>\n",
       "      <th>Periodicity</th>\n",
       "      <th>Base Period</th>\n",
       "      <th>Other notes</th>\n",
       "      <th>Aggregation method</th>\n",
       "      <th>...</th>\n",
       "      <th>Notes from original source</th>\n",
       "      <th>General comments</th>\n",
       "      <th>Source</th>\n",
       "      <th>Statistical concept and methodology</th>\n",
       "      <th>Development relevance</th>\n",
       "      <th>Related source links</th>\n",
       "      <th>Other web links</th>\n",
       "      <th>Related indicators</th>\n",
       "      <th>License Type</th>\n",
       "      <th>Unnamed: 20</th>\n",
       "    </tr>\n",
       "  </thead>\n",
       "  <tbody>\n",
       "    <tr>\n",
       "      <th>0</th>\n",
       "      <td>BAR.NOED.1519.FE.ZS</td>\n",
       "      <td>Attainment</td>\n",
       "      <td>Barro-Lee: Percentage of female population age...</td>\n",
       "      <td>Percentage of female population age 15-19 with...</td>\n",
       "      <td>Percentage of female population age 15-19 with...</td>\n",
       "      <td>NaN</td>\n",
       "      <td>NaN</td>\n",
       "      <td>NaN</td>\n",
       "      <td>NaN</td>\n",
       "      <td>NaN</td>\n",
       "      <td>...</td>\n",
       "      <td>NaN</td>\n",
       "      <td>NaN</td>\n",
       "      <td>Robert J. Barro and Jong-Wha Lee: http://www.b...</td>\n",
       "      <td>NaN</td>\n",
       "      <td>NaN</td>\n",
       "      <td>NaN</td>\n",
       "      <td>NaN</td>\n",
       "      <td>NaN</td>\n",
       "      <td>NaN</td>\n",
       "      <td>NaN</td>\n",
       "    </tr>\n",
       "    <tr>\n",
       "      <th>1</th>\n",
       "      <td>BAR.NOED.1519.ZS</td>\n",
       "      <td>Attainment</td>\n",
       "      <td>Barro-Lee: Percentage of population age 15-19 ...</td>\n",
       "      <td>Percentage of population age 15-19 with no edu...</td>\n",
       "      <td>Percentage of population age 15-19 with no edu...</td>\n",
       "      <td>NaN</td>\n",
       "      <td>NaN</td>\n",
       "      <td>NaN</td>\n",
       "      <td>NaN</td>\n",
       "      <td>NaN</td>\n",
       "      <td>...</td>\n",
       "      <td>NaN</td>\n",
       "      <td>NaN</td>\n",
       "      <td>Robert J. Barro and Jong-Wha Lee: http://www.b...</td>\n",
       "      <td>NaN</td>\n",
       "      <td>NaN</td>\n",
       "      <td>NaN</td>\n",
       "      <td>NaN</td>\n",
       "      <td>NaN</td>\n",
       "      <td>NaN</td>\n",
       "      <td>NaN</td>\n",
       "    </tr>\n",
       "    <tr>\n",
       "      <th>2</th>\n",
       "      <td>BAR.NOED.15UP.FE.ZS</td>\n",
       "      <td>Attainment</td>\n",
       "      <td>Barro-Lee: Percentage of female population age...</td>\n",
       "      <td>Percentage of female population age 15+ with n...</td>\n",
       "      <td>Percentage of female population age 15+ with n...</td>\n",
       "      <td>NaN</td>\n",
       "      <td>NaN</td>\n",
       "      <td>NaN</td>\n",
       "      <td>NaN</td>\n",
       "      <td>NaN</td>\n",
       "      <td>...</td>\n",
       "      <td>NaN</td>\n",
       "      <td>NaN</td>\n",
       "      <td>Robert J. Barro and Jong-Wha Lee: http://www.b...</td>\n",
       "      <td>NaN</td>\n",
       "      <td>NaN</td>\n",
       "      <td>NaN</td>\n",
       "      <td>NaN</td>\n",
       "      <td>NaN</td>\n",
       "      <td>NaN</td>\n",
       "      <td>NaN</td>\n",
       "    </tr>\n",
       "    <tr>\n",
       "      <th>3</th>\n",
       "      <td>BAR.NOED.15UP.ZS</td>\n",
       "      <td>Attainment</td>\n",
       "      <td>Barro-Lee: Percentage of population age 15+ wi...</td>\n",
       "      <td>Percentage of population age 15+ with no educa...</td>\n",
       "      <td>Percentage of population age 15+ with no educa...</td>\n",
       "      <td>NaN</td>\n",
       "      <td>NaN</td>\n",
       "      <td>NaN</td>\n",
       "      <td>NaN</td>\n",
       "      <td>NaN</td>\n",
       "      <td>...</td>\n",
       "      <td>NaN</td>\n",
       "      <td>NaN</td>\n",
       "      <td>Robert J. Barro and Jong-Wha Lee: http://www.b...</td>\n",
       "      <td>NaN</td>\n",
       "      <td>NaN</td>\n",
       "      <td>NaN</td>\n",
       "      <td>NaN</td>\n",
       "      <td>NaN</td>\n",
       "      <td>NaN</td>\n",
       "      <td>NaN</td>\n",
       "    </tr>\n",
       "  </tbody>\n",
       "</table>\n",
       "<p>4 rows × 21 columns</p>\n",
       "</div>"
      ],
      "text/plain": [
       "           Series Code       Topic  \\\n",
       "0  BAR.NOED.1519.FE.ZS  Attainment   \n",
       "1     BAR.NOED.1519.ZS  Attainment   \n",
       "2  BAR.NOED.15UP.FE.ZS  Attainment   \n",
       "3     BAR.NOED.15UP.ZS  Attainment   \n",
       "\n",
       "                                      Indicator Name  \\\n",
       "0  Barro-Lee: Percentage of female population age...   \n",
       "1  Barro-Lee: Percentage of population age 15-19 ...   \n",
       "2  Barro-Lee: Percentage of female population age...   \n",
       "3  Barro-Lee: Percentage of population age 15+ wi...   \n",
       "\n",
       "                                    Short definition  \\\n",
       "0  Percentage of female population age 15-19 with...   \n",
       "1  Percentage of population age 15-19 with no edu...   \n",
       "2  Percentage of female population age 15+ with n...   \n",
       "3  Percentage of population age 15+ with no educa...   \n",
       "\n",
       "                                     Long definition  Unit of measure  \\\n",
       "0  Percentage of female population age 15-19 with...              NaN   \n",
       "1  Percentage of population age 15-19 with no edu...              NaN   \n",
       "2  Percentage of female population age 15+ with n...              NaN   \n",
       "3  Percentage of population age 15+ with no educa...              NaN   \n",
       "\n",
       "  Periodicity Base Period Other notes Aggregation method  ...  \\\n",
       "0         NaN         NaN         NaN                NaN  ...   \n",
       "1         NaN         NaN         NaN                NaN  ...   \n",
       "2         NaN         NaN         NaN                NaN  ...   \n",
       "3         NaN         NaN         NaN                NaN  ...   \n",
       "\n",
       "  Notes from original source  General comments  \\\n",
       "0                        NaN               NaN   \n",
       "1                        NaN               NaN   \n",
       "2                        NaN               NaN   \n",
       "3                        NaN               NaN   \n",
       "\n",
       "                                              Source  \\\n",
       "0  Robert J. Barro and Jong-Wha Lee: http://www.b...   \n",
       "1  Robert J. Barro and Jong-Wha Lee: http://www.b...   \n",
       "2  Robert J. Barro and Jong-Wha Lee: http://www.b...   \n",
       "3  Robert J. Barro and Jong-Wha Lee: http://www.b...   \n",
       "\n",
       "  Statistical concept and methodology Development relevance  \\\n",
       "0                                 NaN                   NaN   \n",
       "1                                 NaN                   NaN   \n",
       "2                                 NaN                   NaN   \n",
       "3                                 NaN                   NaN   \n",
       "\n",
       "  Related source links Other web links  Related indicators  License Type  \\\n",
       "0                  NaN             NaN                 NaN           NaN   \n",
       "1                  NaN             NaN                 NaN           NaN   \n",
       "2                  NaN             NaN                 NaN           NaN   \n",
       "3                  NaN             NaN                 NaN           NaN   \n",
       "\n",
       "   Unnamed: 20  \n",
       "0          NaN  \n",
       "1          NaN  \n",
       "2          NaN  \n",
       "3          NaN  \n",
       "\n",
       "[4 rows x 21 columns]"
      ]
     },
     "execution_count": 252,
     "metadata": {},
     "output_type": "execute_result"
    }
   ],
   "source": [
    "series_data.head(4)"
   ]
  },
  {
   "cell_type": "code",
   "execution_count": 253,
   "id": "8e3dca0e",
   "metadata": {},
   "outputs": [
    {
     "data": {
      "text/plain": [
       "(3665, 21)"
      ]
     },
     "execution_count": 253,
     "metadata": {},
     "output_type": "execute_result"
    }
   ],
   "source": [
    "series_data.shape"
   ]
  },
  {
   "cell_type": "markdown",
   "id": "caf6c538",
   "metadata": {},
   "source": [
    "# Exploration des données"
   ]
  },
  {
   "cell_type": "code",
   "execution_count": 254,
   "id": "18ae55b3",
   "metadata": {},
   "outputs": [
    {
     "data": {
      "text/html": [
       "<div>\n",
       "<style scoped>\n",
       "    .dataframe tbody tr th:only-of-type {\n",
       "        vertical-align: middle;\n",
       "    }\n",
       "\n",
       "    .dataframe tbody tr th {\n",
       "        vertical-align: top;\n",
       "    }\n",
       "\n",
       "    .dataframe thead th {\n",
       "        text-align: right;\n",
       "    }\n",
       "</style>\n",
       "<table border=\"1\" class=\"dataframe\">\n",
       "  <thead>\n",
       "    <tr style=\"text-align: right;\">\n",
       "      <th></th>\n",
       "      <th>Country Name</th>\n",
       "      <th>Country Code</th>\n",
       "      <th>Indicator Name</th>\n",
       "      <th>Indicator Code</th>\n",
       "      <th>1970</th>\n",
       "      <th>1971</th>\n",
       "      <th>1972</th>\n",
       "      <th>1973</th>\n",
       "      <th>1974</th>\n",
       "      <th>1975</th>\n",
       "      <th>...</th>\n",
       "      <th>2060</th>\n",
       "      <th>2065</th>\n",
       "      <th>2070</th>\n",
       "      <th>2075</th>\n",
       "      <th>2080</th>\n",
       "      <th>2085</th>\n",
       "      <th>2090</th>\n",
       "      <th>2095</th>\n",
       "      <th>2100</th>\n",
       "      <th>Unnamed: 69</th>\n",
       "    </tr>\n",
       "  </thead>\n",
       "  <tbody>\n",
       "    <tr>\n",
       "      <th>0</th>\n",
       "      <td>Arab World</td>\n",
       "      <td>ARB</td>\n",
       "      <td>Adjusted net enrolment rate, lower secondary, ...</td>\n",
       "      <td>UIS.NERA.2</td>\n",
       "      <td>NaN</td>\n",
       "      <td>NaN</td>\n",
       "      <td>NaN</td>\n",
       "      <td>NaN</td>\n",
       "      <td>NaN</td>\n",
       "      <td>NaN</td>\n",
       "      <td>...</td>\n",
       "      <td>NaN</td>\n",
       "      <td>NaN</td>\n",
       "      <td>NaN</td>\n",
       "      <td>NaN</td>\n",
       "      <td>NaN</td>\n",
       "      <td>NaN</td>\n",
       "      <td>NaN</td>\n",
       "      <td>NaN</td>\n",
       "      <td>NaN</td>\n",
       "      <td>NaN</td>\n",
       "    </tr>\n",
       "    <tr>\n",
       "      <th>1</th>\n",
       "      <td>Arab World</td>\n",
       "      <td>ARB</td>\n",
       "      <td>Adjusted net enrolment rate, lower secondary, ...</td>\n",
       "      <td>UIS.NERA.2.F</td>\n",
       "      <td>NaN</td>\n",
       "      <td>NaN</td>\n",
       "      <td>NaN</td>\n",
       "      <td>NaN</td>\n",
       "      <td>NaN</td>\n",
       "      <td>NaN</td>\n",
       "      <td>...</td>\n",
       "      <td>NaN</td>\n",
       "      <td>NaN</td>\n",
       "      <td>NaN</td>\n",
       "      <td>NaN</td>\n",
       "      <td>NaN</td>\n",
       "      <td>NaN</td>\n",
       "      <td>NaN</td>\n",
       "      <td>NaN</td>\n",
       "      <td>NaN</td>\n",
       "      <td>NaN</td>\n",
       "    </tr>\n",
       "  </tbody>\n",
       "</table>\n",
       "<p>2 rows × 70 columns</p>\n",
       "</div>"
      ],
      "text/plain": [
       "  Country Name Country Code  \\\n",
       "0   Arab World          ARB   \n",
       "1   Arab World          ARB   \n",
       "\n",
       "                                      Indicator Name Indicator Code  1970  \\\n",
       "0  Adjusted net enrolment rate, lower secondary, ...     UIS.NERA.2   NaN   \n",
       "1  Adjusted net enrolment rate, lower secondary, ...   UIS.NERA.2.F   NaN   \n",
       "\n",
       "   1971  1972  1973  1974  1975  ...  2060  2065  2070  2075  2080  2085  \\\n",
       "0   NaN   NaN   NaN   NaN   NaN  ...   NaN   NaN   NaN   NaN   NaN   NaN   \n",
       "1   NaN   NaN   NaN   NaN   NaN  ...   NaN   NaN   NaN   NaN   NaN   NaN   \n",
       "\n",
       "   2090  2095  2100  Unnamed: 69  \n",
       "0   NaN   NaN   NaN          NaN  \n",
       "1   NaN   NaN   NaN          NaN  \n",
       "\n",
       "[2 rows x 70 columns]"
      ]
     },
     "execution_count": 254,
     "metadata": {},
     "output_type": "execute_result"
    }
   ],
   "source": [
    "country_data.head(2)"
   ]
  },
  {
   "cell_type": "markdown",
   "id": "d852c2c2",
   "metadata": {},
   "source": [
    "Nombre de ligne et de colonne dans country_data"
   ]
  },
  {
   "cell_type": "code",
   "execution_count": 255,
   "id": "8b1742ca",
   "metadata": {},
   "outputs": [
    {
     "data": {
      "text/plain": [
       "(886930, 70)"
      ]
     },
     "execution_count": 255,
     "metadata": {},
     "output_type": "execute_result"
    }
   ],
   "source": [
    "country_data.shape"
   ]
  },
  {
   "cell_type": "markdown",
   "id": "afd01b68",
   "metadata": {},
   "source": [
    "Vérification de la cohérence des types des données"
   ]
  },
  {
   "cell_type": "code",
   "execution_count": 256,
   "id": "8ff2e56b",
   "metadata": {},
   "outputs": [
    {
     "data": {
      "text/plain": [
       "Country Name       object\n",
       "Country Code       object\n",
       "Indicator Name     object\n",
       "Indicator Code     object\n",
       "1970              float64\n",
       "                   ...   \n",
       "2085              float64\n",
       "2090              float64\n",
       "2095              float64\n",
       "2100              float64\n",
       "Unnamed: 69       float64\n",
       "Length: 70, dtype: object"
      ]
     },
     "execution_count": 256,
     "metadata": {},
     "output_type": "execute_result"
    }
   ],
   "source": [
    "country_data.dtypes"
   ]
  },
  {
   "cell_type": "code",
   "execution_count": 257,
   "id": "a54e2640",
   "metadata": {},
   "outputs": [],
   "source": [
    "listIndexColumnName = country_data.notna().sum().index.tolist()[ 4: -15] #on supprime les 4 premières colonnes et le dernier élement de la liste\n",
    "listValue = country_data.notna().sum().tolist()[ 4: -15]\n",
    "y_pos = np.arange(len(listIndexColumnName))"
   ]
  },
  {
   "cell_type": "code",
   "execution_count": 258,
   "id": "9642f92e",
   "metadata": {},
   "outputs": [
    {
     "data": {
      "image/png": "[encoded data removed]",
      "text/plain": [
       "<Figure size 2160x1080 with 1 Axes>"
      ]
     },
     "metadata": {
      "needs_background": "light"
     },
     "output_type": "display_data"
    }
   ],
   "source": [
    "plt.figure(figsize = (30,15))\n",
    "plt.bar(y_pos,listValue)\n",
    "plt.xticks(y_pos, listIndexColumnName,rotation = 45, fontsize=25)\n",
    "plt.yticks(fontsize=25)\n",
    "plt.title('Nombre de données par an', fontsize=35)\n",
    "plt.show()\n",
    "#plt.savefig('donnesParan.png')"
   ]
  },
  {
   "cell_type": "markdown",
   "id": "90b582ba",
   "metadata": {},
   "source": [
    "## Choix de 4 indicateurs"
   ]
  },
  {
   "cell_type": "markdown",
   "id": "53025e95",
   "metadata": {},
   "source": [
    "GNI, Enrolment in tertiary education, Internet users, Mortality rate"
   ]
  },
  {
   "cell_type": "code",
   "execution_count": 259,
   "id": "88c334d9",
   "metadata": {},
   "outputs": [],
   "source": [
    "indicators = ['GNI per capita, PPP (current international $)','Enrolment in tertiary education, all programmes, both sexes (number)','Internet users (per 100 people)', 'Mortality rate, under-5 (per 1,000)']"
   ]
  },
  {
   "cell_type": "markdown",
   "id": "f0aabdf8",
   "metadata": {},
   "source": [
    "Filtre le dataframe \"country_data_1Filtre\" avec les 4 indicateurs choisis"
   ]
  },
  {
   "cell_type": "code",
   "execution_count": 260,
   "id": "af548190",
   "metadata": {},
   "outputs": [],
   "source": [
    "country_data_indicators = country_data[country_data['Indicator Name'].isin(indicators)]"
   ]
  },
  {
   "cell_type": "code",
   "execution_count": 261,
   "id": "60b6a498",
   "metadata": {},
   "outputs": [],
   "source": [
    "#country_data_2Filtre = country_data_1Filtre[country_data_1Filtre['Indicator Name'].isin(indicators)]"
   ]
  },
  {
   "cell_type": "markdown",
   "id": "e6b03c24",
   "metadata": {},
   "source": [
    "## Analyse de la qualité des données"
   ]
  },
  {
   "cell_type": "code",
   "execution_count": 262,
   "id": "91819912",
   "metadata": {},
   "outputs": [
    {
     "data": {
      "text/plain": [
       "Enrolment in tertiary education, all programmes, both sexes (number)    242\n",
       "GNI per capita, PPP (current international $)                           242\n",
       "Internet users (per 100 people)                                         242\n",
       "Mortality rate, under-5 (per 1,000)                                     242\n",
       "Name: Indicator Name, dtype: int64"
      ]
     },
     "execution_count": 262,
     "metadata": {},
     "output_type": "execute_result"
    }
   ],
   "source": [
    "country_data_indicators['Indicator Name'].value_counts()"
   ]
  },
  {
   "cell_type": "code",
   "execution_count": 263,
   "id": "fc12242d",
   "metadata": {},
   "outputs": [
    {
     "data": {
      "text/html": [
       "<div>\n",
       "<style scoped>\n",
       "    .dataframe tbody tr th:only-of-type {\n",
       "        vertical-align: middle;\n",
       "    }\n",
       "\n",
       "    .dataframe tbody tr th {\n",
       "        vertical-align: top;\n",
       "    }\n",
       "\n",
       "    .dataframe thead th {\n",
       "        text-align: right;\n",
       "    }\n",
       "</style>\n",
       "<table border=\"1\" class=\"dataframe\">\n",
       "  <thead>\n",
       "    <tr style=\"text-align: right;\">\n",
       "      <th></th>\n",
       "      <th>Country Name</th>\n",
       "      <th>Country Code</th>\n",
       "      <th>Indicator Name</th>\n",
       "      <th>Indicator Code</th>\n",
       "      <th>1970</th>\n",
       "      <th>1971</th>\n",
       "      <th>1972</th>\n",
       "      <th>1973</th>\n",
       "      <th>1974</th>\n",
       "      <th>1975</th>\n",
       "      <th>...</th>\n",
       "      <th>2060</th>\n",
       "      <th>2065</th>\n",
       "      <th>2070</th>\n",
       "      <th>2075</th>\n",
       "      <th>2080</th>\n",
       "      <th>2085</th>\n",
       "      <th>2090</th>\n",
       "      <th>2095</th>\n",
       "      <th>2100</th>\n",
       "      <th>Unnamed: 69</th>\n",
       "    </tr>\n",
       "  </thead>\n",
       "  <tbody>\n",
       "    <tr>\n",
       "      <th>1204</th>\n",
       "      <td>Arab World</td>\n",
       "      <td>ARB</td>\n",
       "      <td>Enrolment in tertiary education, all programme...</td>\n",
       "      <td>SE.TER.ENRL</td>\n",
       "      <td>706416.125</td>\n",
       "      <td>733981.25</td>\n",
       "      <td>794759.0</td>\n",
       "      <td>871347.3125</td>\n",
       "      <td>957383.125</td>\n",
       "      <td>1066646.75</td>\n",
       "      <td>...</td>\n",
       "      <td>NaN</td>\n",
       "      <td>NaN</td>\n",
       "      <td>NaN</td>\n",
       "      <td>NaN</td>\n",
       "      <td>NaN</td>\n",
       "      <td>NaN</td>\n",
       "      <td>NaN</td>\n",
       "      <td>NaN</td>\n",
       "      <td>NaN</td>\n",
       "      <td>NaN</td>\n",
       "    </tr>\n",
       "    <tr>\n",
       "      <th>1252</th>\n",
       "      <td>Arab World</td>\n",
       "      <td>ARB</td>\n",
       "      <td>GNI per capita, PPP (current international $)</td>\n",
       "      <td>NY.GNP.PCAP.PP.CD</td>\n",
       "      <td>NaN</td>\n",
       "      <td>NaN</td>\n",
       "      <td>NaN</td>\n",
       "      <td>NaN</td>\n",
       "      <td>NaN</td>\n",
       "      <td>NaN</td>\n",
       "      <td>...</td>\n",
       "      <td>NaN</td>\n",
       "      <td>NaN</td>\n",
       "      <td>NaN</td>\n",
       "      <td>NaN</td>\n",
       "      <td>NaN</td>\n",
       "      <td>NaN</td>\n",
       "      <td>NaN</td>\n",
       "      <td>NaN</td>\n",
       "      <td>NaN</td>\n",
       "      <td>NaN</td>\n",
       "    </tr>\n",
       "  </tbody>\n",
       "</table>\n",
       "<p>2 rows × 70 columns</p>\n",
       "</div>"
      ],
      "text/plain": [
       "     Country Name Country Code  \\\n",
       "1204   Arab World          ARB   \n",
       "1252   Arab World          ARB   \n",
       "\n",
       "                                         Indicator Name     Indicator Code  \\\n",
       "1204  Enrolment in tertiary education, all programme...        SE.TER.ENRL   \n",
       "1252      GNI per capita, PPP (current international $)  NY.GNP.PCAP.PP.CD   \n",
       "\n",
       "            1970       1971      1972         1973        1974        1975  \\\n",
       "1204  706416.125  733981.25  794759.0  871347.3125  957383.125  1066646.75   \n",
       "1252         NaN        NaN       NaN          NaN         NaN         NaN   \n",
       "\n",
       "      ...  2060  2065  2070  2075  2080  2085  2090  2095  2100  Unnamed: 69  \n",
       "1204  ...   NaN   NaN   NaN   NaN   NaN   NaN   NaN   NaN   NaN          NaN  \n",
       "1252  ...   NaN   NaN   NaN   NaN   NaN   NaN   NaN   NaN   NaN          NaN  \n",
       "\n",
       "[2 rows x 70 columns]"
      ]
     },
     "execution_count": 263,
     "metadata": {},
     "output_type": "execute_result"
    }
   ],
   "source": [
    "country_data_indicators.head(2)"
   ]
  },
  {
   "cell_type": "code",
   "execution_count": 264,
   "id": "82f8e2f9",
   "metadata": {},
   "outputs": [
    {
     "data": {
      "text/html": [
       "<div>\n",
       "<style scoped>\n",
       "    .dataframe tbody tr th:only-of-type {\n",
       "        vertical-align: middle;\n",
       "    }\n",
       "\n",
       "    .dataframe tbody tr th {\n",
       "        vertical-align: top;\n",
       "    }\n",
       "\n",
       "    .dataframe thead th {\n",
       "        text-align: right;\n",
       "    }\n",
       "</style>\n",
       "<table border=\"1\" class=\"dataframe\">\n",
       "  <thead>\n",
       "    <tr style=\"text-align: right;\">\n",
       "      <th></th>\n",
       "      <th>1970</th>\n",
       "      <th>1971</th>\n",
       "      <th>1972</th>\n",
       "      <th>1973</th>\n",
       "      <th>1974</th>\n",
       "      <th>1975</th>\n",
       "      <th>1976</th>\n",
       "      <th>1977</th>\n",
       "      <th>1978</th>\n",
       "      <th>1979</th>\n",
       "      <th>...</th>\n",
       "      <th>2060</th>\n",
       "      <th>2065</th>\n",
       "      <th>2070</th>\n",
       "      <th>2075</th>\n",
       "      <th>2080</th>\n",
       "      <th>2085</th>\n",
       "      <th>2090</th>\n",
       "      <th>2095</th>\n",
       "      <th>2100</th>\n",
       "      <th>Unnamed: 69</th>\n",
       "    </tr>\n",
       "  </thead>\n",
       "  <tbody>\n",
       "    <tr>\n",
       "      <th>count</th>\n",
       "      <td>2.120000e+02</td>\n",
       "      <td>2.930000e+02</td>\n",
       "      <td>2.860000e+02</td>\n",
       "      <td>2.870000e+02</td>\n",
       "      <td>2.860000e+02</td>\n",
       "      <td>3.010000e+02</td>\n",
       "      <td>3.020000e+02</td>\n",
       "      <td>3.040000e+02</td>\n",
       "      <td>3.090000e+02</td>\n",
       "      <td>3.200000e+02</td>\n",
       "      <td>...</td>\n",
       "      <td>0.0</td>\n",
       "      <td>0.0</td>\n",
       "      <td>0.0</td>\n",
       "      <td>0.0</td>\n",
       "      <td>0.0</td>\n",
       "      <td>0.0</td>\n",
       "      <td>0.0</td>\n",
       "      <td>0.0</td>\n",
       "      <td>0.0</td>\n",
       "      <td>0.0</td>\n",
       "    </tr>\n",
       "    <tr>\n",
       "      <th>mean</th>\n",
       "      <td>8.407491e+05</td>\n",
       "      <td>6.974515e+05</td>\n",
       "      <td>7.370444e+05</td>\n",
       "      <td>7.791616e+05</td>\n",
       "      <td>8.128857e+05</td>\n",
       "      <td>8.216964e+05</td>\n",
       "      <td>8.875937e+05</td>\n",
       "      <td>8.949652e+05</td>\n",
       "      <td>9.177795e+05</td>\n",
       "      <td>9.173745e+05</td>\n",
       "      <td>...</td>\n",
       "      <td>NaN</td>\n",
       "      <td>NaN</td>\n",
       "      <td>NaN</td>\n",
       "      <td>NaN</td>\n",
       "      <td>NaN</td>\n",
       "      <td>NaN</td>\n",
       "      <td>NaN</td>\n",
       "      <td>NaN</td>\n",
       "      <td>NaN</td>\n",
       "      <td>NaN</td>\n",
       "    </tr>\n",
       "    <tr>\n",
       "      <th>std</th>\n",
       "      <td>3.519928e+06</td>\n",
       "      <td>3.130066e+06</td>\n",
       "      <td>3.322056e+06</td>\n",
       "      <td>3.470592e+06</td>\n",
       "      <td>3.638032e+06</td>\n",
       "      <td>3.757637e+06</td>\n",
       "      <td>3.974699e+06</td>\n",
       "      <td>4.053933e+06</td>\n",
       "      <td>4.179203e+06</td>\n",
       "      <td>4.225099e+06</td>\n",
       "      <td>...</td>\n",
       "      <td>NaN</td>\n",
       "      <td>NaN</td>\n",
       "      <td>NaN</td>\n",
       "      <td>NaN</td>\n",
       "      <td>NaN</td>\n",
       "      <td>NaN</td>\n",
       "      <td>NaN</td>\n",
       "      <td>NaN</td>\n",
       "      <td>NaN</td>\n",
       "      <td>NaN</td>\n",
       "    </tr>\n",
       "    <tr>\n",
       "      <th>min</th>\n",
       "      <td>0.000000e+00</td>\n",
       "      <td>0.000000e+00</td>\n",
       "      <td>0.000000e+00</td>\n",
       "      <td>1.160000e+01</td>\n",
       "      <td>1.090000e+01</td>\n",
       "      <td>0.000000e+00</td>\n",
       "      <td>0.000000e+00</td>\n",
       "      <td>0.000000e+00</td>\n",
       "      <td>0.000000e+00</td>\n",
       "      <td>0.000000e+00</td>\n",
       "      <td>...</td>\n",
       "      <td>NaN</td>\n",
       "      <td>NaN</td>\n",
       "      <td>NaN</td>\n",
       "      <td>NaN</td>\n",
       "      <td>NaN</td>\n",
       "      <td>NaN</td>\n",
       "      <td>NaN</td>\n",
       "      <td>NaN</td>\n",
       "      <td>NaN</td>\n",
       "      <td>NaN</td>\n",
       "    </tr>\n",
       "    <tr>\n",
       "      <th>25%</th>\n",
       "      <td>6.395000e+01</td>\n",
       "      <td>8.480000e+01</td>\n",
       "      <td>8.622500e+01</td>\n",
       "      <td>8.595000e+01</td>\n",
       "      <td>8.210000e+01</td>\n",
       "      <td>7.630000e+01</td>\n",
       "      <td>7.255000e+01</td>\n",
       "      <td>7.040000e+01</td>\n",
       "      <td>6.860000e+01</td>\n",
       "      <td>6.580000e+01</td>\n",
       "      <td>...</td>\n",
       "      <td>NaN</td>\n",
       "      <td>NaN</td>\n",
       "      <td>NaN</td>\n",
       "      <td>NaN</td>\n",
       "      <td>NaN</td>\n",
       "      <td>NaN</td>\n",
       "      <td>NaN</td>\n",
       "      <td>NaN</td>\n",
       "      <td>NaN</td>\n",
       "      <td>NaN</td>\n",
       "    </tr>\n",
       "    <tr>\n",
       "      <th>50%</th>\n",
       "      <td>1.728500e+02</td>\n",
       "      <td>2.778000e+02</td>\n",
       "      <td>2.682500e+02</td>\n",
       "      <td>2.711000e+02</td>\n",
       "      <td>2.630000e+02</td>\n",
       "      <td>2.448000e+02</td>\n",
       "      <td>2.425000e+02</td>\n",
       "      <td>2.366500e+02</td>\n",
       "      <td>2.214000e+02</td>\n",
       "      <td>2.149500e+02</td>\n",
       "      <td>...</td>\n",
       "      <td>NaN</td>\n",
       "      <td>NaN</td>\n",
       "      <td>NaN</td>\n",
       "      <td>NaN</td>\n",
       "      <td>NaN</td>\n",
       "      <td>NaN</td>\n",
       "      <td>NaN</td>\n",
       "      <td>NaN</td>\n",
       "      <td>NaN</td>\n",
       "      <td>NaN</td>\n",
       "    </tr>\n",
       "    <tr>\n",
       "      <th>75%</th>\n",
       "      <td>1.568500e+03</td>\n",
       "      <td>3.313700e+04</td>\n",
       "      <td>4.202650e+04</td>\n",
       "      <td>5.027300e+04</td>\n",
       "      <td>3.358200e+04</td>\n",
       "      <td>3.826500e+04</td>\n",
       "      <td>5.360575e+04</td>\n",
       "      <td>4.059650e+04</td>\n",
       "      <td>3.430200e+04</td>\n",
       "      <td>4.868075e+04</td>\n",
       "      <td>...</td>\n",
       "      <td>NaN</td>\n",
       "      <td>NaN</td>\n",
       "      <td>NaN</td>\n",
       "      <td>NaN</td>\n",
       "      <td>NaN</td>\n",
       "      <td>NaN</td>\n",
       "      <td>NaN</td>\n",
       "      <td>NaN</td>\n",
       "      <td>NaN</td>\n",
       "      <td>NaN</td>\n",
       "    </tr>\n",
       "    <tr>\n",
       "      <th>max</th>\n",
       "      <td>3.298520e+07</td>\n",
       "      <td>3.384516e+07</td>\n",
       "      <td>3.561322e+07</td>\n",
       "      <td>3.731871e+07</td>\n",
       "      <td>3.918228e+07</td>\n",
       "      <td>4.153738e+07</td>\n",
       "      <td>4.403349e+07</td>\n",
       "      <td>4.510180e+07</td>\n",
       "      <td>4.695124e+07</td>\n",
       "      <td>4.836447e+07</td>\n",
       "      <td>...</td>\n",
       "      <td>NaN</td>\n",
       "      <td>NaN</td>\n",
       "      <td>NaN</td>\n",
       "      <td>NaN</td>\n",
       "      <td>NaN</td>\n",
       "      <td>NaN</td>\n",
       "      <td>NaN</td>\n",
       "      <td>NaN</td>\n",
       "      <td>NaN</td>\n",
       "      <td>NaN</td>\n",
       "    </tr>\n",
       "  </tbody>\n",
       "</table>\n",
       "<p>8 rows × 66 columns</p>\n",
       "</div>"
      ],
      "text/plain": [
       "               1970          1971          1972          1973          1974  \\\n",
       "count  2.120000e+02  2.930000e+02  2.860000e+02  2.870000e+02  2.860000e+02   \n",
       "mean   8.407491e+05  6.974515e+05  7.370444e+05  7.791616e+05  8.128857e+05   \n",
       "std    3.519928e+06  3.130066e+06  3.322056e+06  3.470592e+06  3.638032e+06   \n",
       "min    0.000000e+00  0.000000e+00  0.000000e+00  1.160000e+01  1.090000e+01   \n",
       "25%    6.395000e+01  8.480000e+01  8.622500e+01  8.595000e+01  8.210000e+01   \n",
       "50%    1.728500e+02  2.778000e+02  2.682500e+02  2.711000e+02  2.630000e+02   \n",
       "75%    1.568500e+03  3.313700e+04  4.202650e+04  5.027300e+04  3.358200e+04   \n",
       "max    3.298520e+07  3.384516e+07  3.561322e+07  3.731871e+07  3.918228e+07   \n",
       "\n",
       "               1975          1976          1977          1978          1979  \\\n",
       "count  3.010000e+02  3.020000e+02  3.040000e+02  3.090000e+02  3.200000e+02   \n",
       "mean   8.216964e+05  8.875937e+05  8.949652e+05  9.177795e+05  9.173745e+05   \n",
       "std    3.757637e+06  3.974699e+06  4.053933e+06  4.179203e+06  4.225099e+06   \n",
       "min    0.000000e+00  0.000000e+00  0.000000e+00  0.000000e+00  0.000000e+00   \n",
       "25%    7.630000e+01  7.255000e+01  7.040000e+01  6.860000e+01  6.580000e+01   \n",
       "50%    2.448000e+02  2.425000e+02  2.366500e+02  2.214000e+02  2.149500e+02   \n",
       "75%    3.826500e+04  5.360575e+04  4.059650e+04  3.430200e+04  4.868075e+04   \n",
       "max    4.153738e+07  4.403349e+07  4.510180e+07  4.695124e+07  4.836447e+07   \n",
       "\n",
       "       ...  2060  2065  2070  2075  2080  2085  2090  2095  2100  Unnamed: 69  \n",
       "count  ...   0.0   0.0   0.0   0.0   0.0   0.0   0.0   0.0   0.0          0.0  \n",
       "mean   ...   NaN   NaN   NaN   NaN   NaN   NaN   NaN   NaN   NaN          NaN  \n",
       "std    ...   NaN   NaN   NaN   NaN   NaN   NaN   NaN   NaN   NaN          NaN  \n",
       "min    ...   NaN   NaN   NaN   NaN   NaN   NaN   NaN   NaN   NaN          NaN  \n",
       "25%    ...   NaN   NaN   NaN   NaN   NaN   NaN   NaN   NaN   NaN          NaN  \n",
       "50%    ...   NaN   NaN   NaN   NaN   NaN   NaN   NaN   NaN   NaN          NaN  \n",
       "75%    ...   NaN   NaN   NaN   NaN   NaN   NaN   NaN   NaN   NaN          NaN  \n",
       "max    ...   NaN   NaN   NaN   NaN   NaN   NaN   NaN   NaN   NaN          NaN  \n",
       "\n",
       "[8 rows x 66 columns]"
      ]
     },
     "execution_count": 264,
     "metadata": {},
     "output_type": "execute_result"
    }
   ],
   "source": [
    "country_data_indicators.describe()"
   ]
  },
  {
   "cell_type": "code",
   "execution_count": 265,
   "id": "58cefb51",
   "metadata": {},
   "outputs": [],
   "source": [
    "test_country_data_indicators = country_data_indicators.copy()"
   ]
  },
  {
   "cell_type": "markdown",
   "id": "0e5bd1a1",
   "metadata": {},
   "source": [
    "Vérification cohérence des valeurs uniques"
   ]
  },
  {
   "cell_type": "code",
   "execution_count": 266,
   "id": "8868655d",
   "metadata": {},
   "outputs": [
    {
     "data": {
      "text/plain": [
       "1204      49\n",
       "1252      28\n",
       "1375      24\n",
       "1642      48\n",
       "4869      49\n",
       "          ..\n",
       "881242    50\n",
       "884469    29\n",
       "884517    27\n",
       "884640    27\n",
       "884907    51\n",
       "Length: 968, dtype: int64"
      ]
     },
     "execution_count": 266,
     "metadata": {},
     "output_type": "execute_result"
    }
   ],
   "source": [
    "country_data_indicators.apply(pd.Series.nunique, axis=1)"
   ]
  },
  {
   "cell_type": "markdown",
   "id": "cd98bdd1",
   "metadata": {},
   "source": [
    "Determine la moyenne des valeurs manquantes pour chaque colonne"
   ]
  },
  {
   "cell_type": "code",
   "execution_count": 267,
   "id": "9aa5377f",
   "metadata": {},
   "outputs": [],
   "source": [
    "infoNAbycolumn = country_data_indicators.isna().mean().to_frame()"
   ]
  },
  {
   "cell_type": "code",
   "execution_count": 268,
   "id": "ee7c6996",
   "metadata": {},
   "outputs": [
    {
     "data": {
      "text/html": [
       "<div>\n",
       "<style scoped>\n",
       "    .dataframe tbody tr th:only-of-type {\n",
       "        vertical-align: middle;\n",
       "    }\n",
       "\n",
       "    .dataframe tbody tr th {\n",
       "        vertical-align: top;\n",
       "    }\n",
       "\n",
       "    .dataframe thead th {\n",
       "        text-align: right;\n",
       "    }\n",
       "</style>\n",
       "<table border=\"1\" class=\"dataframe\">\n",
       "  <thead>\n",
       "    <tr style=\"text-align: right;\">\n",
       "      <th></th>\n",
       "      <th>0</th>\n",
       "    </tr>\n",
       "  </thead>\n",
       "  <tbody>\n",
       "    <tr>\n",
       "      <th>count</th>\n",
       "      <td>70.000000</td>\n",
       "    </tr>\n",
       "    <tr>\n",
       "      <th>mean</th>\n",
       "      <td>0.547521</td>\n",
       "    </tr>\n",
       "    <tr>\n",
       "      <th>std</th>\n",
       "      <td>0.351752</td>\n",
       "    </tr>\n",
       "    <tr>\n",
       "      <th>min</th>\n",
       "      <td>0.000000</td>\n",
       "    </tr>\n",
       "    <tr>\n",
       "      <th>25%</th>\n",
       "      <td>0.179752</td>\n",
       "    </tr>\n",
       "    <tr>\n",
       "      <th>50%</th>\n",
       "      <td>0.643595</td>\n",
       "    </tr>\n",
       "    <tr>\n",
       "      <th>75%</th>\n",
       "      <td>1.000000</td>\n",
       "    </tr>\n",
       "    <tr>\n",
       "      <th>max</th>\n",
       "      <td>1.000000</td>\n",
       "    </tr>\n",
       "  </tbody>\n",
       "</table>\n",
       "</div>"
      ],
      "text/plain": [
       "               0\n",
       "count  70.000000\n",
       "mean    0.547521\n",
       "std     0.351752\n",
       "min     0.000000\n",
       "25%     0.179752\n",
       "50%     0.643595\n",
       "75%     1.000000\n",
       "max     1.000000"
      ]
     },
     "execution_count": 268,
     "metadata": {},
     "output_type": "execute_result"
    }
   ],
   "source": [
    "infoNAbycolumn.describe()"
   ]
  },
  {
   "cell_type": "code",
   "execution_count": 269,
   "id": "fc7ea4e8",
   "metadata": {},
   "outputs": [],
   "source": [
    "listIndexColumnName = country_data_indicators.notna().sum().index.tolist()[ 4: -15] #on supprime les 4 premières colonnes et le dernier élement de la liste\n",
    "listValue = country_data_indicators.notna().sum().tolist()[ 4: -15]\n",
    "y_pos = np.arange(len(listIndexColumnName))"
   ]
  },
  {
   "cell_type": "code",
   "execution_count": 270,
   "id": "60942b0f",
   "metadata": {},
   "outputs": [
    {
     "data": {
      "image/png": "[encoded data removed]",
      "text/plain": [
       "<Figure size 2160x1080 with 1 Axes>"
      ]
     },
     "metadata": {
      "needs_background": "light"
     },
     "output_type": "display_data"
    }
   ],
   "source": [
    "plt.figure(figsize = (30,15))\n",
    "plt.bar(y_pos,listValue)\n",
    "plt.xticks(y_pos, listIndexColumnName,rotation = 45, fontsize=25)\n",
    "plt.yticks(fontsize=25)\n",
    "plt.title('Quatre indicateurs - Nombre de données par an', fontsize=35)\n",
    "plt.show()\n",
    "#plt.savefig('4_indicateurs_donnesParan.png')"
   ]
  },
  {
   "cell_type": "markdown",
   "id": "cf8ce93c",
   "metadata": {},
   "source": [
    "### Analyse petits pays"
   ]
  },
  {
   "cell_type": "code",
   "execution_count": 271,
   "id": "29b24c94",
   "metadata": {},
   "outputs": [],
   "source": [
    "df_country_data_indicators = country_data_indicators.groupby('Country Name').mean()"
   ]
  },
  {
   "cell_type": "code",
   "execution_count": 272,
   "id": "d7a4b1c1",
   "metadata": {},
   "outputs": [],
   "source": [
    "df_country_data_indicators_final = df_country_data_indicators.fillna(0)"
   ]
  },
  {
   "cell_type": "code",
   "execution_count": 273,
   "id": "4bd1e65d",
   "metadata": {},
   "outputs": [
    {
     "data": {
      "text/html": [
       "<div>\n",
       "<style scoped>\n",
       "    .dataframe tbody tr th:only-of-type {\n",
       "        vertical-align: middle;\n",
       "    }\n",
       "\n",
       "    .dataframe tbody tr th {\n",
       "        vertical-align: top;\n",
       "    }\n",
       "\n",
       "    .dataframe thead th {\n",
       "        text-align: right;\n",
       "    }\n",
       "</style>\n",
       "<table border=\"1\" class=\"dataframe\">\n",
       "  <thead>\n",
       "    <tr style=\"text-align: right;\">\n",
       "      <th></th>\n",
       "      <th>1970</th>\n",
       "      <th>1971</th>\n",
       "      <th>1972</th>\n",
       "      <th>1973</th>\n",
       "      <th>1974</th>\n",
       "      <th>1975</th>\n",
       "      <th>1976</th>\n",
       "      <th>1977</th>\n",
       "      <th>1978</th>\n",
       "      <th>1979</th>\n",
       "      <th>...</th>\n",
       "      <th>2060</th>\n",
       "      <th>2065</th>\n",
       "      <th>2070</th>\n",
       "      <th>2075</th>\n",
       "      <th>2080</th>\n",
       "      <th>2085</th>\n",
       "      <th>2090</th>\n",
       "      <th>2095</th>\n",
       "      <th>2100</th>\n",
       "      <th>Unnamed: 69</th>\n",
       "    </tr>\n",
       "    <tr>\n",
       "      <th>Country Name</th>\n",
       "      <th></th>\n",
       "      <th></th>\n",
       "      <th></th>\n",
       "      <th></th>\n",
       "      <th></th>\n",
       "      <th></th>\n",
       "      <th></th>\n",
       "      <th></th>\n",
       "      <th></th>\n",
       "      <th></th>\n",
       "      <th></th>\n",
       "      <th></th>\n",
       "      <th></th>\n",
       "      <th></th>\n",
       "      <th></th>\n",
       "      <th></th>\n",
       "      <th></th>\n",
       "      <th></th>\n",
       "      <th></th>\n",
       "      <th></th>\n",
       "      <th></th>\n",
       "    </tr>\n",
       "  </thead>\n",
       "  <tbody>\n",
       "    <tr>\n",
       "      <th>Afghanistan</th>\n",
       "      <td>4019.0</td>\n",
       "      <td>4854.7</td>\n",
       "      <td>5055.85</td>\n",
       "      <td>5887.95</td>\n",
       "      <td>5619.35</td>\n",
       "      <td>6266.35</td>\n",
       "      <td>7242.3</td>\n",
       "      <td>8205.65</td>\n",
       "      <td>10687.95</td>\n",
       "      <td>11612.75</td>\n",
       "      <td>...</td>\n",
       "      <td>0.0</td>\n",
       "      <td>0.0</td>\n",
       "      <td>0.0</td>\n",
       "      <td>0.0</td>\n",
       "      <td>0.0</td>\n",
       "      <td>0.0</td>\n",
       "      <td>0.0</td>\n",
       "      <td>0.0</td>\n",
       "      <td>0.0</td>\n",
       "      <td>0.0</td>\n",
       "    </tr>\n",
       "    <tr>\n",
       "      <th>Albania</th>\n",
       "      <td>0.0</td>\n",
       "      <td>25469.0</td>\n",
       "      <td>28668.00</td>\n",
       "      <td>0.00</td>\n",
       "      <td>0.00</td>\n",
       "      <td>0.00</td>\n",
       "      <td>0.0</td>\n",
       "      <td>0.00</td>\n",
       "      <td>7392.90</td>\n",
       "      <td>84.10</td>\n",
       "      <td>...</td>\n",
       "      <td>0.0</td>\n",
       "      <td>0.0</td>\n",
       "      <td>0.0</td>\n",
       "      <td>0.0</td>\n",
       "      <td>0.0</td>\n",
       "      <td>0.0</td>\n",
       "      <td>0.0</td>\n",
       "      <td>0.0</td>\n",
       "      <td>0.0</td>\n",
       "      <td>0.0</td>\n",
       "    </tr>\n",
       "  </tbody>\n",
       "</table>\n",
       "<p>2 rows × 66 columns</p>\n",
       "</div>"
      ],
      "text/plain": [
       "                1970     1971      1972     1973     1974     1975    1976  \\\n",
       "Country Name                                                                 \n",
       "Afghanistan   4019.0   4854.7   5055.85  5887.95  5619.35  6266.35  7242.3   \n",
       "Albania          0.0  25469.0  28668.00     0.00     0.00     0.00     0.0   \n",
       "\n",
       "                 1977      1978      1979  ...  2060  2065  2070  2075  2080  \\\n",
       "Country Name                               ...                                 \n",
       "Afghanistan   8205.65  10687.95  11612.75  ...   0.0   0.0   0.0   0.0   0.0   \n",
       "Albania          0.00   7392.90     84.10  ...   0.0   0.0   0.0   0.0   0.0   \n",
       "\n",
       "              2085  2090  2095  2100  Unnamed: 69  \n",
       "Country Name                                       \n",
       "Afghanistan    0.0   0.0   0.0   0.0          0.0  \n",
       "Albania        0.0   0.0   0.0   0.0          0.0  \n",
       "\n",
       "[2 rows x 66 columns]"
      ]
     },
     "execution_count": 273,
     "metadata": {},
     "output_type": "execute_result"
    }
   ],
   "source": [
    "df_country_data_indicators_final.head(2)"
   ]
  },
  {
   "cell_type": "code",
   "execution_count": 274,
   "id": "c048fc57",
   "metadata": {},
   "outputs": [],
   "source": [
    "df_country_data_indicators_final['MeanYears'] = df_country_data_indicators_final[[str(an) for an in listIndexColumnName]].mean(axis = 1)"
   ]
  },
  {
   "cell_type": "code",
   "execution_count": 275,
   "id": "9e4b758a",
   "metadata": {},
   "outputs": [
    {
     "data": {
      "text/plain": [
       "count    2.420000e+02\n",
       "mean     8.595762e+05\n",
       "std      3.470451e+06\n",
       "min      0.000000e+00\n",
       "25%      1.780170e+03\n",
       "50%      1.413002e+04\n",
       "75%      9.135214e+04\n",
       "max      3.611248e+07\n",
       "Name: MeanYears, dtype: float64"
      ]
     },
     "execution_count": 275,
     "metadata": {},
     "output_type": "execute_result"
    }
   ],
   "source": [
    "df_country_data_indicators_final['MeanYears'].describe()"
   ]
  },
  {
   "cell_type": "code",
   "execution_count": 276,
   "id": "ecfad55f",
   "metadata": {},
   "outputs": [],
   "source": [
    "df_meanBycountry_Visu = df_country_data_indicators_final[df_country_data_indicators_final.MeanYears < 1.780170e+02]"
   ]
  },
  {
   "cell_type": "code",
   "execution_count": 277,
   "id": "fe57f61b",
   "metadata": {},
   "outputs": [],
   "source": [
    "y_pos = np.arange(len(df_meanBycountry_Visu['MeanYears']))\n",
    "listIndexColumnName = df_meanBycountry_Visu.index.tolist()"
   ]
  },
  {
   "cell_type": "code",
   "execution_count": 278,
   "id": "091b7080",
   "metadata": {},
   "outputs": [
    {
     "data": {
      "image/png": "[encoded data removed]",
      "text/plain": [
       "<Figure size 2160x1080 with 1 Axes>"
      ]
     },
     "metadata": {
      "needs_background": "light"
     },
     "output_type": "display_data"
    }
   ],
   "source": [
    "plt.figure(figsize = (30,15))\n",
    "plt.bar(y_pos,df_meanBycountry_Visu['MeanYears'])\n",
    "plt.xticks(y_pos, listIndexColumnName,rotation = 45, fontsize=25)\n",
    "plt.yticks(fontsize=25)\n",
    "plt.title('Petits pays', fontsize=35)\n",
    "plt.show()\n",
    "#lt.savefig('petitspays.png')"
   ]
  },
  {
   "cell_type": "markdown",
   "id": "97b59e11",
   "metadata": {},
   "source": [
    "# Sélection définitive des indicateurs et pays"
   ]
  },
  {
   "cell_type": "markdown",
   "id": "b5aae505",
   "metadata": {},
   "source": [
    "## Filtre données manquantes - seuil 0.16"
   ]
  },
  {
   "cell_type": "markdown",
   "id": "ca79c237",
   "metadata": {},
   "source": [
    "#### Mise en place d'un seuil sur les colonnes concernant les valeurs NAN, seuil à 0.16, valeur proche du 1er Quartile des valeurs NAN"
   ]
  },
  {
   "cell_type": "code",
   "execution_count": 279,
   "id": "9d786768",
   "metadata": {},
   "outputs": [],
   "source": [
    "infoNAbycolumn.columns = ['Information NAN par colonne']"
   ]
  },
  {
   "cell_type": "code",
   "execution_count": 280,
   "id": "2f6c2497",
   "metadata": {},
   "outputs": [],
   "source": [
    "infoNAbycolumn_filtered = infoNAbycolumn[infoNAbycolumn['Information NAN par colonne'] < 0.16]"
   ]
  },
  {
   "cell_type": "markdown",
   "id": "b33429bb",
   "metadata": {},
   "source": [
    "Colonnes filtrés avec seuil dans une liste"
   ]
  },
  {
   "cell_type": "code",
   "execution_count": 281,
   "id": "22679d46",
   "metadata": {},
   "outputs": [],
   "source": [
    "#Selection des colonnes filtrées\n",
    "columnFiltered = infoNAbycolumn_filtered.index.tolist()\n",
    "#Dataframe country_data_2Filtre filtré\n",
    "country_data_columnFiltered = country_data_indicators[columnFiltered]\n",
    "#c_dataFinale = c[columnFiltered2] (ancien)"
   ]
  },
  {
   "cell_type": "code",
   "execution_count": 282,
   "id": "5a1eb1fb",
   "metadata": {},
   "outputs": [
    {
     "data": {
      "text/html": [
       "<div>\n",
       "<style scoped>\n",
       "    .dataframe tbody tr th:only-of-type {\n",
       "        vertical-align: middle;\n",
       "    }\n",
       "\n",
       "    .dataframe tbody tr th {\n",
       "        vertical-align: top;\n",
       "    }\n",
       "\n",
       "    .dataframe thead th {\n",
       "        text-align: right;\n",
       "    }\n",
       "</style>\n",
       "<table border=\"1\" class=\"dataframe\">\n",
       "  <thead>\n",
       "    <tr style=\"text-align: right;\">\n",
       "      <th></th>\n",
       "      <th>Country Name</th>\n",
       "      <th>Country Code</th>\n",
       "      <th>Indicator Name</th>\n",
       "      <th>Indicator Code</th>\n",
       "      <th>2008</th>\n",
       "      <th>2009</th>\n",
       "      <th>2010</th>\n",
       "      <th>2011</th>\n",
       "      <th>2012</th>\n",
       "    </tr>\n",
       "  </thead>\n",
       "  <tbody>\n",
       "    <tr>\n",
       "      <th>1204</th>\n",
       "      <td>Arab World</td>\n",
       "      <td>ARB</td>\n",
       "      <td>Enrolment in tertiary education, all programme...</td>\n",
       "      <td>SE.TER.ENRL</td>\n",
       "      <td>8.006892e+06</td>\n",
       "      <td>8.382284e+06</td>\n",
       "      <td>8.715273e+06</td>\n",
       "      <td>8.594488e+06</td>\n",
       "      <td>9.147083e+06</td>\n",
       "    </tr>\n",
       "    <tr>\n",
       "      <th>1252</th>\n",
       "      <td>Arab World</td>\n",
       "      <td>ARB</td>\n",
       "      <td>GNI per capita, PPP (current international $)</td>\n",
       "      <td>NY.GNP.PCAP.PP.CD</td>\n",
       "      <td>1.382449e+04</td>\n",
       "      <td>1.385250e+04</td>\n",
       "      <td>1.428402e+04</td>\n",
       "      <td>1.499616e+04</td>\n",
       "      <td>1.584650e+04</td>\n",
       "    </tr>\n",
       "  </tbody>\n",
       "</table>\n",
       "</div>"
      ],
      "text/plain": [
       "     Country Name Country Code  \\\n",
       "1204   Arab World          ARB   \n",
       "1252   Arab World          ARB   \n",
       "\n",
       "                                         Indicator Name     Indicator Code  \\\n",
       "1204  Enrolment in tertiary education, all programme...        SE.TER.ENRL   \n",
       "1252      GNI per capita, PPP (current international $)  NY.GNP.PCAP.PP.CD   \n",
       "\n",
       "              2008          2009          2010          2011          2012  \n",
       "1204  8.006892e+06  8.382284e+06  8.715273e+06  8.594488e+06  9.147083e+06  \n",
       "1252  1.382449e+04  1.385250e+04  1.428402e+04  1.499616e+04  1.584650e+04  "
      ]
     },
     "execution_count": 282,
     "metadata": {},
     "output_type": "execute_result"
    }
   ],
   "source": [
    "country_data_columnFiltered.head(2)"
   ]
  },
  {
   "cell_type": "code",
   "execution_count": 283,
   "id": "f9d05656",
   "metadata": {},
   "outputs": [
    {
     "data": {
      "text/plain": [
       "(968, 9)"
      ]
     },
     "execution_count": 283,
     "metadata": {},
     "output_type": "execute_result"
    }
   ],
   "source": [
    "country_data_columnFiltered.shape"
   ]
  },
  {
   "cell_type": "markdown",
   "id": "95463b90",
   "metadata": {},
   "source": [
    "Vérification cohérence des valeurs uniques"
   ]
  },
  {
   "cell_type": "code",
   "execution_count": 284,
   "id": "566cb025",
   "metadata": {},
   "outputs": [
    {
     "data": {
      "text/plain": [
       "1204      9\n",
       "1252      9\n",
       "1375      9\n",
       "1642      9\n",
       "4869      9\n",
       "         ..\n",
       "881242    9\n",
       "884469    7\n",
       "884517    9\n",
       "884640    9\n",
       "884907    9\n",
       "Length: 968, dtype: int64"
      ]
     },
     "execution_count": 284,
     "metadata": {},
     "output_type": "execute_result"
    }
   ],
   "source": [
    "country_data_columnFiltered.nunique(axis=1)"
   ]
  },
  {
   "cell_type": "code",
   "execution_count": 285,
   "id": "dc9c4cbe",
   "metadata": {},
   "outputs": [
    {
     "name": "stdout",
     "output_type": "stream",
     "text": [
      "       Country Name Country Code  \\\n",
      "125862        Aruba          ABW   \n",
      "\n",
      "                                       Indicator Name     Indicator Code  \\\n",
      "125862  GNI per capita, PPP (current international $)  NY.GNP.PCAP.PP.CD   \n",
      "\n",
      "        2008  2009  2010  2011  2012  \n",
      "125862   NaN   NaN   NaN   NaN   NaN  \n"
     ]
    }
   ],
   "source": [
    "print(country_data_columnFiltered.loc[[125862]])"
   ]
  },
  {
   "cell_type": "code",
   "execution_count": 286,
   "id": "383b183a",
   "metadata": {},
   "outputs": [
    {
     "data": {
      "text/html": [
       "<div>\n",
       "<style scoped>\n",
       "    .dataframe tbody tr th:only-of-type {\n",
       "        vertical-align: middle;\n",
       "    }\n",
       "\n",
       "    .dataframe tbody tr th {\n",
       "        vertical-align: top;\n",
       "    }\n",
       "\n",
       "    .dataframe thead th {\n",
       "        text-align: right;\n",
       "    }\n",
       "</style>\n",
       "<table border=\"1\" class=\"dataframe\">\n",
       "  <thead>\n",
       "    <tr style=\"text-align: right;\">\n",
       "      <th></th>\n",
       "      <th>2008</th>\n",
       "      <th>2009</th>\n",
       "      <th>2010</th>\n",
       "      <th>2011</th>\n",
       "      <th>2012</th>\n",
       "    </tr>\n",
       "  </thead>\n",
       "  <tbody>\n",
       "    <tr>\n",
       "      <th>count</th>\n",
       "      <td>8.170000e+02</td>\n",
       "      <td>8.190000e+02</td>\n",
       "      <td>8.220000e+02</td>\n",
       "      <td>8.260000e+02</td>\n",
       "      <td>8.210000e+02</td>\n",
       "    </tr>\n",
       "    <tr>\n",
       "      <th>mean</th>\n",
       "      <td>1.305551e+06</td>\n",
       "      <td>1.368885e+06</td>\n",
       "      <td>1.423049e+06</td>\n",
       "      <td>1.503401e+06</td>\n",
       "      <td>1.559844e+06</td>\n",
       "    </tr>\n",
       "    <tr>\n",
       "      <th>std</th>\n",
       "      <td>9.459346e+06</td>\n",
       "      <td>9.937933e+06</td>\n",
       "      <td>1.045236e+07</td>\n",
       "      <td>1.099233e+07</td>\n",
       "      <td>1.140047e+07</td>\n",
       "    </tr>\n",
       "    <tr>\n",
       "      <th>min</th>\n",
       "      <td>0.000000e+00</td>\n",
       "      <td>0.000000e+00</td>\n",
       "      <td>0.000000e+00</td>\n",
       "      <td>0.000000e+00</td>\n",
       "      <td>0.000000e+00</td>\n",
       "    </tr>\n",
       "    <tr>\n",
       "      <th>25%</th>\n",
       "      <td>1.970000e+01</td>\n",
       "      <td>2.085000e+01</td>\n",
       "      <td>2.240000e+01</td>\n",
       "      <td>2.337500e+01</td>\n",
       "      <td>2.400000e+01</td>\n",
       "    </tr>\n",
       "    <tr>\n",
       "      <th>50%</th>\n",
       "      <td>9.100000e+01</td>\n",
       "      <td>9.208000e+01</td>\n",
       "      <td>9.025000e+01</td>\n",
       "      <td>8.852300e+01</td>\n",
       "      <td>8.748000e+01</td>\n",
       "    </tr>\n",
       "    <tr>\n",
       "      <th>75%</th>\n",
       "      <td>1.589000e+04</td>\n",
       "      <td>1.637000e+04</td>\n",
       "      <td>1.726000e+04</td>\n",
       "      <td>1.901375e+04</td>\n",
       "      <td>1.937000e+04</td>\n",
       "    </tr>\n",
       "    <tr>\n",
       "      <th>max</th>\n",
       "      <td>1.641394e+08</td>\n",
       "      <td>1.721631e+08</td>\n",
       "      <td>1.814247e+08</td>\n",
       "      <td>1.910539e+08</td>\n",
       "      <td>1.969203e+08</td>\n",
       "    </tr>\n",
       "  </tbody>\n",
       "</table>\n",
       "</div>"
      ],
      "text/plain": [
       "               2008          2009          2010          2011          2012\n",
       "count  8.170000e+02  8.190000e+02  8.220000e+02  8.260000e+02  8.210000e+02\n",
       "mean   1.305551e+06  1.368885e+06  1.423049e+06  1.503401e+06  1.559844e+06\n",
       "std    9.459346e+06  9.937933e+06  1.045236e+07  1.099233e+07  1.140047e+07\n",
       "min    0.000000e+00  0.000000e+00  0.000000e+00  0.000000e+00  0.000000e+00\n",
       "25%    1.970000e+01  2.085000e+01  2.240000e+01  2.337500e+01  2.400000e+01\n",
       "50%    9.100000e+01  9.208000e+01  9.025000e+01  8.852300e+01  8.748000e+01\n",
       "75%    1.589000e+04  1.637000e+04  1.726000e+04  1.901375e+04  1.937000e+04\n",
       "max    1.641394e+08  1.721631e+08  1.814247e+08  1.910539e+08  1.969203e+08"
      ]
     },
     "execution_count": 286,
     "metadata": {},
     "output_type": "execute_result"
    }
   ],
   "source": [
    "country_data_columnFiltered.describe()"
   ]
  },
  {
   "cell_type": "markdown",
   "id": "f8e5545f",
   "metadata": {},
   "source": [
    "#### Suppression des pays pour lesquels il manque des informations (NAN) pour les indicateurs choisis"
   ]
  },
  {
   "cell_type": "markdown",
   "id": "977fc4e5",
   "metadata": {},
   "source": [
    "On crée une colonne indiquant le nombre de valeur manquante par indicateur (par ligne)"
   ]
  },
  {
   "cell_type": "code",
   "execution_count": 287,
   "id": "66f92b31",
   "metadata": {},
   "outputs": [],
   "source": [
    "df_country_data_row = country_data_columnFiltered.isna().mean(axis = 1).to_frame()\n",
    "df_country_data_row.columns = ['MeanNANRow']"
   ]
  },
  {
   "cell_type": "code",
   "execution_count": 288,
   "id": "20f18018",
   "metadata": {},
   "outputs": [
    {
     "data": {
      "text/html": [
       "<div>\n",
       "<style scoped>\n",
       "    .dataframe tbody tr th:only-of-type {\n",
       "        vertical-align: middle;\n",
       "    }\n",
       "\n",
       "    .dataframe tbody tr th {\n",
       "        vertical-align: top;\n",
       "    }\n",
       "\n",
       "    .dataframe thead th {\n",
       "        text-align: right;\n",
       "    }\n",
       "</style>\n",
       "<table border=\"1\" class=\"dataframe\">\n",
       "  <thead>\n",
       "    <tr style=\"text-align: right;\">\n",
       "      <th></th>\n",
       "      <th>Country Name</th>\n",
       "      <th>Country Code</th>\n",
       "      <th>Indicator Name</th>\n",
       "      <th>Indicator Code</th>\n",
       "      <th>2008</th>\n",
       "      <th>2009</th>\n",
       "      <th>2010</th>\n",
       "      <th>2011</th>\n",
       "      <th>2012</th>\n",
       "    </tr>\n",
       "  </thead>\n",
       "  <tbody>\n",
       "    <tr>\n",
       "      <th>1204</th>\n",
       "      <td>Arab World</td>\n",
       "      <td>ARB</td>\n",
       "      <td>Enrolment in tertiary education, all programme...</td>\n",
       "      <td>SE.TER.ENRL</td>\n",
       "      <td>8.006892e+06</td>\n",
       "      <td>8.382284e+06</td>\n",
       "      <td>8.715273e+06</td>\n",
       "      <td>8.594488e+06</td>\n",
       "      <td>9.147083e+06</td>\n",
       "    </tr>\n",
       "    <tr>\n",
       "      <th>1252</th>\n",
       "      <td>Arab World</td>\n",
       "      <td>ARB</td>\n",
       "      <td>GNI per capita, PPP (current international $)</td>\n",
       "      <td>NY.GNP.PCAP.PP.CD</td>\n",
       "      <td>1.382449e+04</td>\n",
       "      <td>1.385250e+04</td>\n",
       "      <td>1.428402e+04</td>\n",
       "      <td>1.499616e+04</td>\n",
       "      <td>1.584650e+04</td>\n",
       "    </tr>\n",
       "    <tr>\n",
       "      <th>1375</th>\n",
       "      <td>Arab World</td>\n",
       "      <td>ARB</td>\n",
       "      <td>Internet users (per 100 people)</td>\n",
       "      <td>IT.NET.USER.P2</td>\n",
       "      <td>1.859353e+01</td>\n",
       "      <td>2.297369e+01</td>\n",
       "      <td>2.674725e+01</td>\n",
       "      <td>2.970776e+01</td>\n",
       "      <td>3.401422e+01</td>\n",
       "    </tr>\n",
       "  </tbody>\n",
       "</table>\n",
       "</div>"
      ],
      "text/plain": [
       "     Country Name Country Code  \\\n",
       "1204   Arab World          ARB   \n",
       "1252   Arab World          ARB   \n",
       "1375   Arab World          ARB   \n",
       "\n",
       "                                         Indicator Name     Indicator Code  \\\n",
       "1204  Enrolment in tertiary education, all programme...        SE.TER.ENRL   \n",
       "1252      GNI per capita, PPP (current international $)  NY.GNP.PCAP.PP.CD   \n",
       "1375                    Internet users (per 100 people)     IT.NET.USER.P2   \n",
       "\n",
       "              2008          2009          2010          2011          2012  \n",
       "1204  8.006892e+06  8.382284e+06  8.715273e+06  8.594488e+06  9.147083e+06  \n",
       "1252  1.382449e+04  1.385250e+04  1.428402e+04  1.499616e+04  1.584650e+04  \n",
       "1375  1.859353e+01  2.297369e+01  2.674725e+01  2.970776e+01  3.401422e+01  "
      ]
     },
     "execution_count": 288,
     "metadata": {},
     "output_type": "execute_result"
    }
   ],
   "source": [
    "country_data_columnFiltered.head(3)"
   ]
  },
  {
   "cell_type": "code",
   "execution_count": 289,
   "id": "61c4c09a",
   "metadata": {},
   "outputs": [
    {
     "data": {
      "text/html": [
       "<div>\n",
       "<style scoped>\n",
       "    .dataframe tbody tr th:only-of-type {\n",
       "        vertical-align: middle;\n",
       "    }\n",
       "\n",
       "    .dataframe tbody tr th {\n",
       "        vertical-align: top;\n",
       "    }\n",
       "\n",
       "    .dataframe thead th {\n",
       "        text-align: right;\n",
       "    }\n",
       "</style>\n",
       "<table border=\"1\" class=\"dataframe\">\n",
       "  <thead>\n",
       "    <tr style=\"text-align: right;\">\n",
       "      <th></th>\n",
       "      <th>MeanNANRow</th>\n",
       "    </tr>\n",
       "  </thead>\n",
       "  <tbody>\n",
       "    <tr>\n",
       "      <th>1204</th>\n",
       "      <td>0.0</td>\n",
       "    </tr>\n",
       "    <tr>\n",
       "      <th>1252</th>\n",
       "      <td>0.0</td>\n",
       "    </tr>\n",
       "    <tr>\n",
       "      <th>1375</th>\n",
       "      <td>0.0</td>\n",
       "    </tr>\n",
       "  </tbody>\n",
       "</table>\n",
       "</div>"
      ],
      "text/plain": [
       "      MeanNANRow\n",
       "1204         0.0\n",
       "1252         0.0\n",
       "1375         0.0"
      ]
     },
     "execution_count": 289,
     "metadata": {},
     "output_type": "execute_result"
    }
   ],
   "source": [
    "df_country_data_row.head(3)"
   ]
  },
  {
   "cell_type": "markdown",
   "id": "04e564fe",
   "metadata": {},
   "source": [
    "Jointure sur l'index des dataframe country_data_columnFiltered et df_country_data_row"
   ]
  },
  {
   "cell_type": "code",
   "execution_count": 290,
   "id": "ecd8e8da",
   "metadata": {},
   "outputs": [],
   "source": [
    "country_data_rowFiltered = country_data_columnFiltered.join(df_country_data_row)"
   ]
  },
  {
   "cell_type": "markdown",
   "id": "67442c95",
   "metadata": {},
   "source": [
    "Verification suite à la jointure"
   ]
  },
  {
   "cell_type": "markdown",
   "id": "8ecf140a",
   "metadata": {},
   "source": [
    "Avant jointure"
   ]
  },
  {
   "cell_type": "code",
   "execution_count": 291,
   "id": "72abd314",
   "metadata": {},
   "outputs": [
    {
     "data": {
      "text/html": [
       "<div>\n",
       "<style scoped>\n",
       "    .dataframe tbody tr th:only-of-type {\n",
       "        vertical-align: middle;\n",
       "    }\n",
       "\n",
       "    .dataframe tbody tr th {\n",
       "        vertical-align: top;\n",
       "    }\n",
       "\n",
       "    .dataframe thead th {\n",
       "        text-align: right;\n",
       "    }\n",
       "</style>\n",
       "<table border=\"1\" class=\"dataframe\">\n",
       "  <thead>\n",
       "    <tr style=\"text-align: right;\">\n",
       "      <th></th>\n",
       "      <th>0</th>\n",
       "    </tr>\n",
       "  </thead>\n",
       "  <tbody>\n",
       "    <tr>\n",
       "      <th>count</th>\n",
       "      <td>9.000000</td>\n",
       "    </tr>\n",
       "    <tr>\n",
       "      <th>mean</th>\n",
       "      <td>0.084366</td>\n",
       "    </tr>\n",
       "    <tr>\n",
       "      <th>std</th>\n",
       "      <td>0.080075</td>\n",
       "    </tr>\n",
       "    <tr>\n",
       "      <th>min</th>\n",
       "      <td>0.000000</td>\n",
       "    </tr>\n",
       "    <tr>\n",
       "      <th>25%</th>\n",
       "      <td>0.000000</td>\n",
       "    </tr>\n",
       "    <tr>\n",
       "      <th>50%</th>\n",
       "      <td>0.146694</td>\n",
       "    </tr>\n",
       "    <tr>\n",
       "      <th>75%</th>\n",
       "      <td>0.151860</td>\n",
       "    </tr>\n",
       "    <tr>\n",
       "      <th>max</th>\n",
       "      <td>0.155992</td>\n",
       "    </tr>\n",
       "  </tbody>\n",
       "</table>\n",
       "</div>"
      ],
      "text/plain": [
       "              0\n",
       "count  9.000000\n",
       "mean   0.084366\n",
       "std    0.080075\n",
       "min    0.000000\n",
       "25%    0.000000\n",
       "50%    0.146694\n",
       "75%    0.151860\n",
       "max    0.155992"
      ]
     },
     "execution_count": 291,
     "metadata": {},
     "output_type": "execute_result"
    }
   ],
   "source": [
    "country_data_columnFiltered.isna().mean().to_frame().describe()"
   ]
  },
  {
   "cell_type": "markdown",
   "id": "4d44f276",
   "metadata": {},
   "source": [
    "Après jointure"
   ]
  },
  {
   "cell_type": "code",
   "execution_count": 292,
   "id": "3a4011c3",
   "metadata": {},
   "outputs": [
    {
     "data": {
      "text/html": [
       "<div>\n",
       "<style scoped>\n",
       "    .dataframe tbody tr th:only-of-type {\n",
       "        vertical-align: middle;\n",
       "    }\n",
       "\n",
       "    .dataframe tbody tr th {\n",
       "        vertical-align: top;\n",
       "    }\n",
       "\n",
       "    .dataframe thead th {\n",
       "        text-align: right;\n",
       "    }\n",
       "</style>\n",
       "<table border=\"1\" class=\"dataframe\">\n",
       "  <thead>\n",
       "    <tr style=\"text-align: right;\">\n",
       "      <th></th>\n",
       "      <th>0</th>\n",
       "    </tr>\n",
       "  </thead>\n",
       "  <tbody>\n",
       "    <tr>\n",
       "      <th>count</th>\n",
       "      <td>10.000000</td>\n",
       "    </tr>\n",
       "    <tr>\n",
       "      <th>mean</th>\n",
       "      <td>0.075930</td>\n",
       "    </tr>\n",
       "    <tr>\n",
       "      <th>std</th>\n",
       "      <td>0.080071</td>\n",
       "    </tr>\n",
       "    <tr>\n",
       "      <th>min</th>\n",
       "      <td>0.000000</td>\n",
       "    </tr>\n",
       "    <tr>\n",
       "      <th>25%</th>\n",
       "      <td>0.000000</td>\n",
       "    </tr>\n",
       "    <tr>\n",
       "      <th>50%</th>\n",
       "      <td>0.073347</td>\n",
       "    </tr>\n",
       "    <tr>\n",
       "      <th>75%</th>\n",
       "      <td>0.151601</td>\n",
       "    </tr>\n",
       "    <tr>\n",
       "      <th>max</th>\n",
       "      <td>0.155992</td>\n",
       "    </tr>\n",
       "  </tbody>\n",
       "</table>\n",
       "</div>"
      ],
      "text/plain": [
       "               0\n",
       "count  10.000000\n",
       "mean    0.075930\n",
       "std     0.080071\n",
       "min     0.000000\n",
       "25%     0.000000\n",
       "50%     0.073347\n",
       "75%     0.151601\n",
       "max     0.155992"
      ]
     },
     "execution_count": 292,
     "metadata": {},
     "output_type": "execute_result"
    }
   ],
   "source": [
    "country_data_rowFiltered.isna().mean().to_frame().describe()"
   ]
  },
  {
   "cell_type": "markdown",
   "id": "f8f2c210",
   "metadata": {},
   "source": [
    "## Liste des pays à selectionner"
   ]
  },
  {
   "cell_type": "markdown",
   "id": "c2206f45",
   "metadata": {},
   "source": [
    "On determine la moyenne des valeurs manquantes par pays"
   ]
  },
  {
   "cell_type": "code",
   "execution_count": 293,
   "id": "560b5720",
   "metadata": {},
   "outputs": [],
   "source": [
    "country_data_NAbyCountry = country_data_rowFiltered.groupby('Country Name').mean()"
   ]
  },
  {
   "cell_type": "code",
   "execution_count": 294,
   "id": "c4ef1af9",
   "metadata": {},
   "outputs": [
    {
     "data": {
      "text/html": [
       "<div>\n",
       "<style scoped>\n",
       "    .dataframe tbody tr th:only-of-type {\n",
       "        vertical-align: middle;\n",
       "    }\n",
       "\n",
       "    .dataframe tbody tr th {\n",
       "        vertical-align: top;\n",
       "    }\n",
       "\n",
       "    .dataframe thead th {\n",
       "        text-align: right;\n",
       "    }\n",
       "</style>\n",
       "<table border=\"1\" class=\"dataframe\">\n",
       "  <thead>\n",
       "    <tr style=\"text-align: right;\">\n",
       "      <th></th>\n",
       "      <th>2008</th>\n",
       "      <th>2009</th>\n",
       "      <th>2010</th>\n",
       "      <th>2011</th>\n",
       "      <th>2012</th>\n",
       "      <th>MeanNANRow</th>\n",
       "    </tr>\n",
       "    <tr>\n",
       "      <th>Country Name</th>\n",
       "      <th></th>\n",
       "      <th></th>\n",
       "      <th></th>\n",
       "      <th></th>\n",
       "      <th></th>\n",
       "      <th></th>\n",
       "    </tr>\n",
       "  </thead>\n",
       "  <tbody>\n",
       "    <tr>\n",
       "      <th>Afghanistan</th>\n",
       "      <td>450.013333</td>\n",
       "      <td>24193.1625</td>\n",
       "      <td>561.4</td>\n",
       "      <td>24818.85</td>\n",
       "      <td>662.751515</td>\n",
       "      <td>0.083333</td>\n",
       "    </tr>\n",
       "    <tr>\n",
       "      <th>Albania</th>\n",
       "      <td>24729.440000</td>\n",
       "      <td>25469.3500</td>\n",
       "      <td>32984.4</td>\n",
       "      <td>36288.00</td>\n",
       "      <td>42839.763990</td>\n",
       "      <td>0.000000</td>\n",
       "    </tr>\n",
       "  </tbody>\n",
       "</table>\n",
       "</div>"
      ],
      "text/plain": [
       "                      2008        2009     2010      2011          2012  \\\n",
       "Country Name                                                              \n",
       "Afghanistan     450.013333  24193.1625    561.4  24818.85    662.751515   \n",
       "Albania       24729.440000  25469.3500  32984.4  36288.00  42839.763990   \n",
       "\n",
       "              MeanNANRow  \n",
       "Country Name              \n",
       "Afghanistan     0.083333  \n",
       "Albania         0.000000  "
      ]
     },
     "execution_count": 294,
     "metadata": {},
     "output_type": "execute_result"
    }
   ],
   "source": [
    "country_data_NAbyCountry.head(2)"
   ]
  },
  {
   "cell_type": "markdown",
   "id": "47ffe846",
   "metadata": {},
   "source": [
    "On supprime les pays possédant des valeurs manquantes"
   ]
  },
  {
   "cell_type": "code",
   "execution_count": 295,
   "id": "324f8d41",
   "metadata": {},
   "outputs": [],
   "source": [
    "country_data_OutNAbyCountry = country_data_NAbyCountry[country_data_NAbyCountry['MeanNANRow'] == 0]"
   ]
  },
  {
   "cell_type": "markdown",
   "id": "09a1cfc0",
   "metadata": {},
   "source": [
    "On recupère la liste des pays sans valeurs manquantes"
   ]
  },
  {
   "cell_type": "code",
   "execution_count": 296,
   "id": "03cd6eea",
   "metadata": {},
   "outputs": [],
   "source": [
    "listCountry = country_data_OutNAbyCountry.index.tolist()"
   ]
  },
  {
   "cell_type": "markdown",
   "id": "af4a6a0f",
   "metadata": {},
   "source": [
    "On applique le filtre avec la liste des pays sur le dataframe dont les colonnes ont été filtrées"
   ]
  },
  {
   "cell_type": "code",
   "execution_count": 297,
   "id": "a8cf1cdb",
   "metadata": {},
   "outputs": [],
   "source": [
    "country_data_final = country_data_columnFiltered[country_data_columnFiltered['Country Name'].isin(listCountry)]"
   ]
  },
  {
   "cell_type": "code",
   "execution_count": 298,
   "id": "48866470",
   "metadata": {},
   "outputs": [
    {
     "data": {
      "text/html": [
       "<div>\n",
       "<style scoped>\n",
       "    .dataframe tbody tr th:only-of-type {\n",
       "        vertical-align: middle;\n",
       "    }\n",
       "\n",
       "    .dataframe tbody tr th {\n",
       "        vertical-align: top;\n",
       "    }\n",
       "\n",
       "    .dataframe thead th {\n",
       "        text-align: right;\n",
       "    }\n",
       "</style>\n",
       "<table border=\"1\" class=\"dataframe\">\n",
       "  <thead>\n",
       "    <tr style=\"text-align: right;\">\n",
       "      <th></th>\n",
       "      <th>Country Name</th>\n",
       "      <th>Country Code</th>\n",
       "      <th>Indicator Name</th>\n",
       "      <th>Indicator Code</th>\n",
       "      <th>2008</th>\n",
       "      <th>2009</th>\n",
       "      <th>2010</th>\n",
       "      <th>2011</th>\n",
       "      <th>2012</th>\n",
       "    </tr>\n",
       "  </thead>\n",
       "  <tbody>\n",
       "    <tr>\n",
       "      <th>1204</th>\n",
       "      <td>Arab World</td>\n",
       "      <td>ARB</td>\n",
       "      <td>Enrolment in tertiary education, all programme...</td>\n",
       "      <td>SE.TER.ENRL</td>\n",
       "      <td>8.006892e+06</td>\n",
       "      <td>8.382284e+06</td>\n",
       "      <td>8.715273e+06</td>\n",
       "      <td>8.594488e+06</td>\n",
       "      <td>9.147083e+06</td>\n",
       "    </tr>\n",
       "    <tr>\n",
       "      <th>1252</th>\n",
       "      <td>Arab World</td>\n",
       "      <td>ARB</td>\n",
       "      <td>GNI per capita, PPP (current international $)</td>\n",
       "      <td>NY.GNP.PCAP.PP.CD</td>\n",
       "      <td>1.382449e+04</td>\n",
       "      <td>1.385250e+04</td>\n",
       "      <td>1.428402e+04</td>\n",
       "      <td>1.499616e+04</td>\n",
       "      <td>1.584650e+04</td>\n",
       "    </tr>\n",
       "  </tbody>\n",
       "</table>\n",
       "</div>"
      ],
      "text/plain": [
       "     Country Name Country Code  \\\n",
       "1204   Arab World          ARB   \n",
       "1252   Arab World          ARB   \n",
       "\n",
       "                                         Indicator Name     Indicator Code  \\\n",
       "1204  Enrolment in tertiary education, all programme...        SE.TER.ENRL   \n",
       "1252      GNI per capita, PPP (current international $)  NY.GNP.PCAP.PP.CD   \n",
       "\n",
       "              2008          2009          2010          2011          2012  \n",
       "1204  8.006892e+06  8.382284e+06  8.715273e+06  8.594488e+06  9.147083e+06  \n",
       "1252  1.382449e+04  1.385250e+04  1.428402e+04  1.499616e+04  1.584650e+04  "
      ]
     },
     "execution_count": 298,
     "metadata": {},
     "output_type": "execute_result"
    }
   ],
   "source": [
    "country_data_final.head(2)"
   ]
  },
  {
   "cell_type": "markdown",
   "id": "50172589",
   "metadata": {},
   "source": [
    "Passer par une variable et non une copie"
   ]
  },
  {
   "cell_type": "code",
   "execution_count": 299,
   "id": "8001c273",
   "metadata": {},
   "outputs": [],
   "source": [
    "df_country_data_mean = country_data_final.copy()"
   ]
  },
  {
   "cell_type": "markdown",
   "id": "5adcaea0",
   "metadata": {},
   "source": [
    "#### Moyenne des années 2008, 2009, 2010, 2011 et 2012"
   ]
  },
  {
   "cell_type": "code",
   "execution_count": 300,
   "id": "e244c877",
   "metadata": {},
   "outputs": [],
   "source": [
    "df_country_data_mean['MeanYears'] = country_data_final[['2008','2009','2010','2011','2012']].mean(axis=1)"
   ]
  },
  {
   "cell_type": "markdown",
   "id": "eec346b6",
   "metadata": {},
   "source": [
    "Filtre sur les colonnes : Country Name, Country Code, Indicator Name, Indicator Code, MeanYears"
   ]
  },
  {
   "cell_type": "code",
   "execution_count": 301,
   "id": "371ff4b9",
   "metadata": {},
   "outputs": [],
   "source": [
    "df_country_data = df_country_data_mean[['Country Name','Country Code','Indicator Name','Indicator Code','MeanYears']]"
   ]
  },
  {
   "cell_type": "code",
   "execution_count": 302,
   "id": "8941b459",
   "metadata": {},
   "outputs": [
    {
     "data": {
      "text/html": [
       "<div>\n",
       "<style scoped>\n",
       "    .dataframe tbody tr th:only-of-type {\n",
       "        vertical-align: middle;\n",
       "    }\n",
       "\n",
       "    .dataframe tbody tr th {\n",
       "        vertical-align: top;\n",
       "    }\n",
       "\n",
       "    .dataframe thead th {\n",
       "        text-align: right;\n",
       "    }\n",
       "</style>\n",
       "<table border=\"1\" class=\"dataframe\">\n",
       "  <thead>\n",
       "    <tr style=\"text-align: right;\">\n",
       "      <th></th>\n",
       "      <th>Country Name</th>\n",
       "      <th>Country Code</th>\n",
       "      <th>Indicator Name</th>\n",
       "      <th>Indicator Code</th>\n",
       "      <th>MeanYears</th>\n",
       "    </tr>\n",
       "  </thead>\n",
       "  <tbody>\n",
       "    <tr>\n",
       "      <th>1204</th>\n",
       "      <td>Arab World</td>\n",
       "      <td>ARB</td>\n",
       "      <td>Enrolment in tertiary education, all programme...</td>\n",
       "      <td>SE.TER.ENRL</td>\n",
       "      <td>8.569204e+06</td>\n",
       "    </tr>\n",
       "    <tr>\n",
       "      <th>1252</th>\n",
       "      <td>Arab World</td>\n",
       "      <td>ARB</td>\n",
       "      <td>GNI per capita, PPP (current international $)</td>\n",
       "      <td>NY.GNP.PCAP.PP.CD</td>\n",
       "      <td>1.456073e+04</td>\n",
       "    </tr>\n",
       "    <tr>\n",
       "      <th>1375</th>\n",
       "      <td>Arab World</td>\n",
       "      <td>ARB</td>\n",
       "      <td>Internet users (per 100 people)</td>\n",
       "      <td>IT.NET.USER.P2</td>\n",
       "      <td>2.640729e+01</td>\n",
       "    </tr>\n",
       "    <tr>\n",
       "      <th>1642</th>\n",
       "      <td>Arab World</td>\n",
       "      <td>ARB</td>\n",
       "      <td>Mortality rate, under-5 (per 1,000)</td>\n",
       "      <td>SH.DYN.MORT</td>\n",
       "      <td>4.334338e+01</td>\n",
       "    </tr>\n",
       "    <tr>\n",
       "      <th>4869</th>\n",
       "      <td>East Asia &amp; Pacific</td>\n",
       "      <td>EAS</td>\n",
       "      <td>Enrolment in tertiary education, all programme...</td>\n",
       "      <td>SE.TER.ENRL</td>\n",
       "      <td>5.453304e+07</td>\n",
       "    </tr>\n",
       "    <tr>\n",
       "      <th>4917</th>\n",
       "      <td>East Asia &amp; Pacific</td>\n",
       "      <td>EAS</td>\n",
       "      <td>GNI per capita, PPP (current international $)</td>\n",
       "      <td>NY.GNP.PCAP.PP.CD</td>\n",
       "      <td>1.180061e+04</td>\n",
       "    </tr>\n",
       "  </tbody>\n",
       "</table>\n",
       "</div>"
      ],
      "text/plain": [
       "             Country Name Country Code  \\\n",
       "1204           Arab World          ARB   \n",
       "1252           Arab World          ARB   \n",
       "1375           Arab World          ARB   \n",
       "1642           Arab World          ARB   \n",
       "4869  East Asia & Pacific          EAS   \n",
       "4917  East Asia & Pacific          EAS   \n",
       "\n",
       "                                         Indicator Name     Indicator Code  \\\n",
       "1204  Enrolment in tertiary education, all programme...        SE.TER.ENRL   \n",
       "1252      GNI per capita, PPP (current international $)  NY.GNP.PCAP.PP.CD   \n",
       "1375                    Internet users (per 100 people)     IT.NET.USER.P2   \n",
       "1642                Mortality rate, under-5 (per 1,000)        SH.DYN.MORT   \n",
       "4869  Enrolment in tertiary education, all programme...        SE.TER.ENRL   \n",
       "4917      GNI per capita, PPP (current international $)  NY.GNP.PCAP.PP.CD   \n",
       "\n",
       "         MeanYears  \n",
       "1204  8.569204e+06  \n",
       "1252  1.456073e+04  \n",
       "1375  2.640729e+01  \n",
       "1642  4.334338e+01  \n",
       "4869  5.453304e+07  \n",
       "4917  1.180061e+04  "
      ]
     },
     "execution_count": 302,
     "metadata": {},
     "output_type": "execute_result"
    }
   ],
   "source": [
    "df_country_data.head(6)"
   ]
  },
  {
   "cell_type": "markdown",
   "id": "2bb837d6",
   "metadata": {},
   "source": [
    "## Moyennes par indicateurs "
   ]
  },
  {
   "cell_type": "markdown",
   "id": "63c782af",
   "metadata": {},
   "source": [
    "### Moyenne du nombre d'utilisateur d'internet par pays"
   ]
  },
  {
   "cell_type": "code",
   "execution_count": 303,
   "id": "b4702867",
   "metadata": {},
   "outputs": [],
   "source": [
    "indicators_Internet = ['Internet users (per 100 people)']\n",
    "c_dataFinale_Internet = df_country_data[df_country_data['Indicator Name'].isin(indicators_Internet)].rename(columns={\"MeanYears\": \"MeanYears_Internet\"})"
   ]
  },
  {
   "cell_type": "code",
   "execution_count": 304,
   "id": "1e9627ca",
   "metadata": {},
   "outputs": [
    {
     "data": {
      "text/html": [
       "<div>\n",
       "<style scoped>\n",
       "    .dataframe tbody tr th:only-of-type {\n",
       "        vertical-align: middle;\n",
       "    }\n",
       "\n",
       "    .dataframe tbody tr th {\n",
       "        vertical-align: top;\n",
       "    }\n",
       "\n",
       "    .dataframe thead th {\n",
       "        text-align: right;\n",
       "    }\n",
       "</style>\n",
       "<table border=\"1\" class=\"dataframe\">\n",
       "  <thead>\n",
       "    <tr style=\"text-align: right;\">\n",
       "      <th></th>\n",
       "      <th>Country Name</th>\n",
       "      <th>Country Code</th>\n",
       "      <th>Indicator Name</th>\n",
       "      <th>Indicator Code</th>\n",
       "      <th>MeanYears_Internet</th>\n",
       "    </tr>\n",
       "  </thead>\n",
       "  <tbody>\n",
       "    <tr>\n",
       "      <th>1375</th>\n",
       "      <td>Arab World</td>\n",
       "      <td>ARB</td>\n",
       "      <td>Internet users (per 100 people)</td>\n",
       "      <td>IT.NET.USER.P2</td>\n",
       "      <td>26.407291</td>\n",
       "    </tr>\n",
       "    <tr>\n",
       "      <th>5040</th>\n",
       "      <td>East Asia &amp; Pacific</td>\n",
       "      <td>EAS</td>\n",
       "      <td>Internet users (per 100 people)</td>\n",
       "      <td>IT.NET.USER.P2</td>\n",
       "      <td>33.414421</td>\n",
       "    </tr>\n",
       "  </tbody>\n",
       "</table>\n",
       "</div>"
      ],
      "text/plain": [
       "             Country Name Country Code                   Indicator Name  \\\n",
       "1375           Arab World          ARB  Internet users (per 100 people)   \n",
       "5040  East Asia & Pacific          EAS  Internet users (per 100 people)   \n",
       "\n",
       "      Indicator Code  MeanYears_Internet  \n",
       "1375  IT.NET.USER.P2           26.407291  \n",
       "5040  IT.NET.USER.P2           33.414421  "
      ]
     },
     "execution_count": 304,
     "metadata": {},
     "output_type": "execute_result"
    }
   ],
   "source": [
    "c_dataFinale_Internet.head(2)"
   ]
  },
  {
   "cell_type": "code",
   "execution_count": 305,
   "id": "cc3cf124",
   "metadata": {},
   "outputs": [],
   "source": [
    "c_dataFinale_Internet = c_dataFinale_Internet.groupby('Country Name').mean()"
   ]
  },
  {
   "cell_type": "code",
   "execution_count": 306,
   "id": "8dc25961",
   "metadata": {},
   "outputs": [
    {
     "data": {
      "text/html": [
       "<div>\n",
       "<style scoped>\n",
       "    .dataframe tbody tr th:only-of-type {\n",
       "        vertical-align: middle;\n",
       "    }\n",
       "\n",
       "    .dataframe tbody tr th {\n",
       "        vertical-align: top;\n",
       "    }\n",
       "\n",
       "    .dataframe thead th {\n",
       "        text-align: right;\n",
       "    }\n",
       "</style>\n",
       "<table border=\"1\" class=\"dataframe\">\n",
       "  <thead>\n",
       "    <tr style=\"text-align: right;\">\n",
       "      <th></th>\n",
       "      <th>MeanYears_Internet</th>\n",
       "    </tr>\n",
       "    <tr>\n",
       "      <th>Country Name</th>\n",
       "      <th></th>\n",
       "    </tr>\n",
       "  </thead>\n",
       "  <tbody>\n",
       "    <tr>\n",
       "      <th>Albania</th>\n",
       "      <td>42.743192</td>\n",
       "    </tr>\n",
       "    <tr>\n",
       "      <th>Arab World</th>\n",
       "      <td>26.407291</td>\n",
       "    </tr>\n",
       "  </tbody>\n",
       "</table>\n",
       "</div>"
      ],
      "text/plain": [
       "              MeanYears_Internet\n",
       "Country Name                    \n",
       "Albania                42.743192\n",
       "Arab World             26.407291"
      ]
     },
     "execution_count": 306,
     "metadata": {},
     "output_type": "execute_result"
    }
   ],
   "source": [
    "c_dataFinale_Internet.head(2)"
   ]
  },
  {
   "cell_type": "markdown",
   "id": "7be18e1b",
   "metadata": {},
   "source": [
    "### Moyenne avec revenu par pays"
   ]
  },
  {
   "cell_type": "code",
   "execution_count": 307,
   "id": "0865810c",
   "metadata": {},
   "outputs": [],
   "source": [
    "indicators_Revenu = ['GNI per capita, PPP (current international $)']\n",
    "c_dataFinale_Revenu = df_country_data[df_country_data['Indicator Name'].isin(indicators_Revenu)].rename(columns={\"MeanYears\": \"MeanYears_Revenu\"})"
   ]
  },
  {
   "cell_type": "code",
   "execution_count": 308,
   "id": "ecbbb2a7",
   "metadata": {},
   "outputs": [],
   "source": [
    "c_dataFinale_Revenu = c_dataFinale_Revenu.groupby('Country Name').mean()"
   ]
  },
  {
   "cell_type": "code",
   "execution_count": 309,
   "id": "63251800",
   "metadata": {},
   "outputs": [
    {
     "data": {
      "text/html": [
       "<div>\n",
       "<style scoped>\n",
       "    .dataframe tbody tr th:only-of-type {\n",
       "        vertical-align: middle;\n",
       "    }\n",
       "\n",
       "    .dataframe tbody tr th {\n",
       "        vertical-align: top;\n",
       "    }\n",
       "\n",
       "    .dataframe thead th {\n",
       "        text-align: right;\n",
       "    }\n",
       "</style>\n",
       "<table border=\"1\" class=\"dataframe\">\n",
       "  <thead>\n",
       "    <tr style=\"text-align: right;\">\n",
       "      <th></th>\n",
       "      <th>MeanYears_Revenu</th>\n",
       "    </tr>\n",
       "    <tr>\n",
       "      <th>Country Name</th>\n",
       "      <th></th>\n",
       "    </tr>\n",
       "  </thead>\n",
       "  <tbody>\n",
       "    <tr>\n",
       "      <th>Albania</th>\n",
       "      <td>9432.000000</td>\n",
       "    </tr>\n",
       "    <tr>\n",
       "      <th>Arab World</th>\n",
       "      <td>14560.733176</td>\n",
       "    </tr>\n",
       "  </tbody>\n",
       "</table>\n",
       "</div>"
      ],
      "text/plain": [
       "              MeanYears_Revenu\n",
       "Country Name                  \n",
       "Albania            9432.000000\n",
       "Arab World        14560.733176"
      ]
     },
     "execution_count": 309,
     "metadata": {},
     "output_type": "execute_result"
    }
   ],
   "source": [
    "c_dataFinale_Revenu.head(2)"
   ]
  },
  {
   "cell_type": "markdown",
   "id": "54d9b0a6",
   "metadata": {},
   "source": [
    "### Moyenne nombre d'inscription par pays"
   ]
  },
  {
   "cell_type": "code",
   "execution_count": 310,
   "id": "614f1a35",
   "metadata": {},
   "outputs": [],
   "source": [
    "indicators_Inscription = ['Enrolment in tertiary education, all programmes, both sexes (number)']\n",
    "c_dataFinale_Inscription = df_country_data[df_country_data['Indicator Name'].isin(indicators_Inscription)].rename(columns={\"MeanYears\": \"MeanYears_Inscription\"})"
   ]
  },
  {
   "cell_type": "code",
   "execution_count": 311,
   "id": "08c32b4c",
   "metadata": {},
   "outputs": [],
   "source": [
    "c_dataFinale_Inscription = c_dataFinale_Inscription.groupby('Country Name').mean()"
   ]
  },
  {
   "cell_type": "code",
   "execution_count": 312,
   "id": "746b33ef",
   "metadata": {},
   "outputs": [
    {
     "data": {
      "text/html": [
       "<div>\n",
       "<style scoped>\n",
       "    .dataframe tbody tr th:only-of-type {\n",
       "        vertical-align: middle;\n",
       "    }\n",
       "\n",
       "    .dataframe tbody tr th {\n",
       "        vertical-align: top;\n",
       "    }\n",
       "\n",
       "    .dataframe thead th {\n",
       "        text-align: right;\n",
       "    }\n",
       "</style>\n",
       "<table border=\"1\" class=\"dataframe\">\n",
       "  <thead>\n",
       "    <tr style=\"text-align: right;\">\n",
       "      <th></th>\n",
       "      <th>MeanYears_Inscription</th>\n",
       "    </tr>\n",
       "    <tr>\n",
       "      <th>Country Name</th>\n",
       "      <th></th>\n",
       "    </tr>\n",
       "  </thead>\n",
       "  <tbody>\n",
       "    <tr>\n",
       "      <th>Albania</th>\n",
       "      <td>120357.4</td>\n",
       "    </tr>\n",
       "    <tr>\n",
       "      <th>Arab World</th>\n",
       "      <td>8569204.0</td>\n",
       "    </tr>\n",
       "  </tbody>\n",
       "</table>\n",
       "</div>"
      ],
      "text/plain": [
       "              MeanYears_Inscription\n",
       "Country Name                       \n",
       "Albania                    120357.4\n",
       "Arab World                8569204.0"
      ]
     },
     "execution_count": 312,
     "metadata": {},
     "output_type": "execute_result"
    }
   ],
   "source": [
    "c_dataFinale_Inscription.head(2)"
   ]
  },
  {
   "cell_type": "markdown",
   "id": "5b26672f",
   "metadata": {},
   "source": [
    "### Moyenne avec taux de mortalité par pays"
   ]
  },
  {
   "cell_type": "code",
   "execution_count": 313,
   "id": "8072ebfc",
   "metadata": {},
   "outputs": [],
   "source": [
    "indicators_Mortalite = ['Mortality rate, under-5 (per 1,000)']\n",
    "c_dataFinale_Mortalite = df_country_data[df_country_data['Indicator Name'].isin(indicators_Mortalite)].rename(columns={\"MeanYears\": \"MeanYears_Mortalite\"})"
   ]
  },
  {
   "cell_type": "code",
   "execution_count": 314,
   "id": "d577cfc0",
   "metadata": {},
   "outputs": [],
   "source": [
    "c_dataFinale_Mortalite = c_dataFinale_Mortalite.groupby('Country Name').mean()"
   ]
  },
  {
   "cell_type": "code",
   "execution_count": 315,
   "id": "2be8f3f6",
   "metadata": {},
   "outputs": [
    {
     "data": {
      "text/html": [
       "<div>\n",
       "<style scoped>\n",
       "    .dataframe tbody tr th:only-of-type {\n",
       "        vertical-align: middle;\n",
       "    }\n",
       "\n",
       "    .dataframe tbody tr th {\n",
       "        vertical-align: top;\n",
       "    }\n",
       "\n",
       "    .dataframe thead th {\n",
       "        text-align: right;\n",
       "    }\n",
       "</style>\n",
       "<table border=\"1\" class=\"dataframe\">\n",
       "  <thead>\n",
       "    <tr style=\"text-align: right;\">\n",
       "      <th></th>\n",
       "      <th>MeanYears_Mortalite</th>\n",
       "    </tr>\n",
       "    <tr>\n",
       "      <th>Country Name</th>\n",
       "      <th></th>\n",
       "    </tr>\n",
       "  </thead>\n",
       "  <tbody>\n",
       "    <tr>\n",
       "      <th>Albania</th>\n",
       "      <td>16.620000</td>\n",
       "    </tr>\n",
       "    <tr>\n",
       "      <th>Arab World</th>\n",
       "      <td>43.343378</td>\n",
       "    </tr>\n",
       "  </tbody>\n",
       "</table>\n",
       "</div>"
      ],
      "text/plain": [
       "              MeanYears_Mortalite\n",
       "Country Name                     \n",
       "Albania                 16.620000\n",
       "Arab World              43.343378"
      ]
     },
     "execution_count": 315,
     "metadata": {},
     "output_type": "execute_result"
    }
   ],
   "source": [
    "c_dataFinale_Mortalite.head(2)"
   ]
  },
  {
   "cell_type": "markdown",
   "id": "735439f2",
   "metadata": {},
   "source": [
    "Concatenation des données"
   ]
  },
  {
   "cell_type": "code",
   "execution_count": 316,
   "id": "7ce5379c",
   "metadata": {},
   "outputs": [],
   "source": [
    "pays_data = pd.concat([c_dataFinale_Internet,c_dataFinale_Revenu,c_dataFinale_Inscription,c_dataFinale_Mortalite], axis=1)"
   ]
  },
  {
   "cell_type": "code",
   "execution_count": 317,
   "id": "353691b9",
   "metadata": {},
   "outputs": [
    {
     "data": {
      "text/html": [
       "<div>\n",
       "<style scoped>\n",
       "    .dataframe tbody tr th:only-of-type {\n",
       "        vertical-align: middle;\n",
       "    }\n",
       "\n",
       "    .dataframe tbody tr th {\n",
       "        vertical-align: top;\n",
       "    }\n",
       "\n",
       "    .dataframe thead th {\n",
       "        text-align: right;\n",
       "    }\n",
       "</style>\n",
       "<table border=\"1\" class=\"dataframe\">\n",
       "  <thead>\n",
       "    <tr style=\"text-align: right;\">\n",
       "      <th></th>\n",
       "      <th>MeanYears_Internet</th>\n",
       "      <th>MeanYears_Revenu</th>\n",
       "      <th>MeanYears_Inscription</th>\n",
       "      <th>MeanYears_Mortalite</th>\n",
       "    </tr>\n",
       "    <tr>\n",
       "      <th>Country Name</th>\n",
       "      <th></th>\n",
       "      <th></th>\n",
       "      <th></th>\n",
       "      <th></th>\n",
       "    </tr>\n",
       "  </thead>\n",
       "  <tbody>\n",
       "    <tr>\n",
       "      <th>Albania</th>\n",
       "      <td>42.743192</td>\n",
       "      <td>9432.000000</td>\n",
       "      <td>120357.4</td>\n",
       "      <td>16.620000</td>\n",
       "    </tr>\n",
       "    <tr>\n",
       "      <th>Arab World</th>\n",
       "      <td>26.407291</td>\n",
       "      <td>14560.733176</td>\n",
       "      <td>8569204.0</td>\n",
       "      <td>43.343378</td>\n",
       "    </tr>\n",
       "  </tbody>\n",
       "</table>\n",
       "</div>"
      ],
      "text/plain": [
       "              MeanYears_Internet  MeanYears_Revenu  MeanYears_Inscription  \\\n",
       "Country Name                                                                \n",
       "Albania                42.743192       9432.000000               120357.4   \n",
       "Arab World             26.407291      14560.733176              8569204.0   \n",
       "\n",
       "              MeanYears_Mortalite  \n",
       "Country Name                       \n",
       "Albania                 16.620000  \n",
       "Arab World              43.343378  "
      ]
     },
     "execution_count": 317,
     "metadata": {},
     "output_type": "execute_result"
    }
   ],
   "source": [
    "pays_data.head(2)"
   ]
  },
  {
   "cell_type": "markdown",
   "id": "4fae76d4",
   "metadata": {},
   "source": [
    "## Rang"
   ]
  },
  {
   "cell_type": "markdown",
   "id": "e10d3c5f",
   "metadata": {},
   "source": [
    "Utilisation de la fonction rank qui renvoie un rang de chaque index respectif d’une série passée. Le rang est renvoyé sur la base de la position après le tri"
   ]
  },
  {
   "cell_type": "code",
   "execution_count": 318,
   "id": "a1f1a465",
   "metadata": {},
   "outputs": [],
   "source": [
    "pays_data['rankInternet'] = pays_data['MeanYears_Internet'].rank(ascending=False)\n",
    "pays_data['rankRevenu'] = pays_data['MeanYears_Revenu'].rank(ascending=False)\n",
    "pays_data['rankInscription'] = pays_data['MeanYears_Inscription'].rank(ascending=False)\n",
    "pays_data['rankMortalite'] = pays_data['MeanYears_Mortalite'].rank(ascending=True)"
   ]
  },
  {
   "cell_type": "code",
   "execution_count": 319,
   "id": "eb4e66a6",
   "metadata": {},
   "outputs": [
    {
     "data": {
      "text/html": [
       "<div>\n",
       "<style scoped>\n",
       "    .dataframe tbody tr th:only-of-type {\n",
       "        vertical-align: middle;\n",
       "    }\n",
       "\n",
       "    .dataframe tbody tr th {\n",
       "        vertical-align: top;\n",
       "    }\n",
       "\n",
       "    .dataframe thead th {\n",
       "        text-align: right;\n",
       "    }\n",
       "</style>\n",
       "<table border=\"1\" class=\"dataframe\">\n",
       "  <thead>\n",
       "    <tr style=\"text-align: right;\">\n",
       "      <th></th>\n",
       "      <th>MeanYears_Internet</th>\n",
       "      <th>MeanYears_Revenu</th>\n",
       "      <th>MeanYears_Inscription</th>\n",
       "      <th>MeanYears_Mortalite</th>\n",
       "      <th>rankInternet</th>\n",
       "      <th>rankRevenu</th>\n",
       "      <th>rankInscription</th>\n",
       "      <th>rankMortalite</th>\n",
       "    </tr>\n",
       "    <tr>\n",
       "      <th>Country Name</th>\n",
       "      <th></th>\n",
       "      <th></th>\n",
       "      <th></th>\n",
       "      <th></th>\n",
       "      <th></th>\n",
       "      <th></th>\n",
       "      <th></th>\n",
       "      <th></th>\n",
       "    </tr>\n",
       "  </thead>\n",
       "  <tbody>\n",
       "    <tr>\n",
       "      <th>Albania</th>\n",
       "      <td>42.743192</td>\n",
       "      <td>9432.000000</td>\n",
       "      <td>120357.4</td>\n",
       "      <td>16.620000</td>\n",
       "      <td>50.0</td>\n",
       "      <td>74.0</td>\n",
       "      <td>90.0</td>\n",
       "      <td>59.0</td>\n",
       "    </tr>\n",
       "    <tr>\n",
       "      <th>Arab World</th>\n",
       "      <td>26.407291</td>\n",
       "      <td>14560.733176</td>\n",
       "      <td>8569204.0</td>\n",
       "      <td>43.343378</td>\n",
       "      <td>78.0</td>\n",
       "      <td>58.0</td>\n",
       "      <td>23.0</td>\n",
       "      <td>93.0</td>\n",
       "    </tr>\n",
       "  </tbody>\n",
       "</table>\n",
       "</div>"
      ],
      "text/plain": [
       "              MeanYears_Internet  MeanYears_Revenu  MeanYears_Inscription  \\\n",
       "Country Name                                                                \n",
       "Albania                42.743192       9432.000000               120357.4   \n",
       "Arab World             26.407291      14560.733176              8569204.0   \n",
       "\n",
       "              MeanYears_Mortalite  rankInternet  rankRevenu  rankInscription  \\\n",
       "Country Name                                                                   \n",
       "Albania                 16.620000          50.0        74.0             90.0   \n",
       "Arab World              43.343378          78.0        58.0             23.0   \n",
       "\n",
       "              rankMortalite  \n",
       "Country Name                 \n",
       "Albania                59.0  \n",
       "Arab World             93.0  "
      ]
     },
     "execution_count": 319,
     "metadata": {},
     "output_type": "execute_result"
    }
   ],
   "source": [
    "pays_data.head(2)"
   ]
  },
  {
   "cell_type": "code",
   "execution_count": 320,
   "id": "6a5249d7",
   "metadata": {},
   "outputs": [
    {
     "data": {
      "text/html": [
       "<div>\n",
       "<style scoped>\n",
       "    .dataframe tbody tr th:only-of-type {\n",
       "        vertical-align: middle;\n",
       "    }\n",
       "\n",
       "    .dataframe tbody tr th {\n",
       "        vertical-align: top;\n",
       "    }\n",
       "\n",
       "    .dataframe thead th {\n",
       "        text-align: right;\n",
       "    }\n",
       "</style>\n",
       "<table border=\"1\" class=\"dataframe\">\n",
       "  <thead>\n",
       "    <tr style=\"text-align: right;\">\n",
       "      <th></th>\n",
       "      <th>MeanYears_Internet</th>\n",
       "      <th>MeanYears_Revenu</th>\n",
       "      <th>MeanYears_Inscription</th>\n",
       "      <th>MeanYears_Mortalite</th>\n",
       "      <th>rankInternet</th>\n",
       "      <th>rankRevenu</th>\n",
       "      <th>rankInscription</th>\n",
       "      <th>rankMortalite</th>\n",
       "    </tr>\n",
       "  </thead>\n",
       "  <tbody>\n",
       "    <tr>\n",
       "      <th>count</th>\n",
       "      <td>122.000000</td>\n",
       "      <td>122.000000</td>\n",
       "      <td>1.220000e+02</td>\n",
       "      <td>122.000000</td>\n",
       "      <td>122.000000</td>\n",
       "      <td>122.000000</td>\n",
       "      <td>122.000000</td>\n",
       "      <td>122.000000</td>\n",
       "    </tr>\n",
       "    <tr>\n",
       "      <th>mean</th>\n",
       "      <td>39.367410</td>\n",
       "      <td>18999.973387</td>\n",
       "      <td>9.454719e+06</td>\n",
       "      <td>31.225694</td>\n",
       "      <td>61.500000</td>\n",
       "      <td>61.500000</td>\n",
       "      <td>61.500000</td>\n",
       "      <td>61.500000</td>\n",
       "    </tr>\n",
       "    <tr>\n",
       "      <th>std</th>\n",
       "      <td>27.077895</td>\n",
       "      <td>18487.171147</td>\n",
       "      <td>2.574277e+07</td>\n",
       "      <td>34.923370</td>\n",
       "      <td>35.362409</td>\n",
       "      <td>35.362409</td>\n",
       "      <td>35.362409</td>\n",
       "      <td>35.362351</td>\n",
       "    </tr>\n",
       "    <tr>\n",
       "      <th>min</th>\n",
       "      <td>0.999540</td>\n",
       "      <td>752.000000</td>\n",
       "      <td>2.330000e+03</td>\n",
       "      <td>2.600000</td>\n",
       "      <td>1.000000</td>\n",
       "      <td>1.000000</td>\n",
       "      <td>1.000000</td>\n",
       "      <td>1.000000</td>\n",
       "    </tr>\n",
       "    <tr>\n",
       "      <th>25%</th>\n",
       "      <td>16.034517</td>\n",
       "      <td>5843.000000</td>\n",
       "      <td>1.136241e+05</td>\n",
       "      <td>6.115000</td>\n",
       "      <td>31.250000</td>\n",
       "      <td>31.250000</td>\n",
       "      <td>31.250000</td>\n",
       "      <td>31.250000</td>\n",
       "    </tr>\n",
       "    <tr>\n",
       "      <th>50%</th>\n",
       "      <td>35.201932</td>\n",
       "      <td>13011.691828</td>\n",
       "      <td>3.735382e+05</td>\n",
       "      <td>17.400000</td>\n",
       "      <td>61.500000</td>\n",
       "      <td>61.500000</td>\n",
       "      <td>61.500000</td>\n",
       "      <td>61.500000</td>\n",
       "    </tr>\n",
       "    <tr>\n",
       "      <th>75%</th>\n",
       "      <td>65.224998</td>\n",
       "      <td>28503.500000</td>\n",
       "      <td>3.715984e+06</td>\n",
       "      <td>42.125000</td>\n",
       "      <td>91.750000</td>\n",
       "      <td>91.750000</td>\n",
       "      <td>91.750000</td>\n",
       "      <td>91.750000</td>\n",
       "    </tr>\n",
       "    <tr>\n",
       "      <th>max</th>\n",
       "      <td>93.683897</td>\n",
       "      <td>111812.000000</td>\n",
       "      <td>1.811402e+08</td>\n",
       "      <td>148.860000</td>\n",
       "      <td>122.000000</td>\n",
       "      <td>122.000000</td>\n",
       "      <td>122.000000</td>\n",
       "      <td>122.000000</td>\n",
       "    </tr>\n",
       "  </tbody>\n",
       "</table>\n",
       "</div>"
      ],
      "text/plain": [
       "       MeanYears_Internet  MeanYears_Revenu  MeanYears_Inscription  \\\n",
       "count          122.000000        122.000000           1.220000e+02   \n",
       "mean            39.367410      18999.973387           9.454719e+06   \n",
       "std             27.077895      18487.171147           2.574277e+07   \n",
       "min              0.999540        752.000000           2.330000e+03   \n",
       "25%             16.034517       5843.000000           1.136241e+05   \n",
       "50%             35.201932      13011.691828           3.735382e+05   \n",
       "75%             65.224998      28503.500000           3.715984e+06   \n",
       "max             93.683897     111812.000000           1.811402e+08   \n",
       "\n",
       "       MeanYears_Mortalite  rankInternet  rankRevenu  rankInscription  \\\n",
       "count           122.000000    122.000000  122.000000       122.000000   \n",
       "mean             31.225694     61.500000   61.500000        61.500000   \n",
       "std              34.923370     35.362409   35.362409        35.362409   \n",
       "min               2.600000      1.000000    1.000000         1.000000   \n",
       "25%               6.115000     31.250000   31.250000        31.250000   \n",
       "50%              17.400000     61.500000   61.500000        61.500000   \n",
       "75%              42.125000     91.750000   91.750000        91.750000   \n",
       "max             148.860000    122.000000  122.000000       122.000000   \n",
       "\n",
       "       rankMortalite  \n",
       "count     122.000000  \n",
       "mean       61.500000  \n",
       "std        35.362351  \n",
       "min         1.000000  \n",
       "25%        31.250000  \n",
       "50%        61.500000  \n",
       "75%        91.750000  \n",
       "max       122.000000  "
      ]
     },
     "execution_count": 320,
     "metadata": {},
     "output_type": "execute_result"
    }
   ],
   "source": [
    "pays_data.describe()"
   ]
  },
  {
   "cell_type": "markdown",
   "id": "7ffca8d4",
   "metadata": {},
   "source": [
    "### Somme des rangs"
   ]
  },
  {
   "cell_type": "code",
   "execution_count": 321,
   "id": "56a4c6a6",
   "metadata": {},
   "outputs": [],
   "source": [
    "sum_rank = pays_data['rankInternet'] + pays_data['rankRevenu'] + pays_data['rankInscription'] + pays_data['rankMortalite']\n",
    "pays_data[\"SumRANK\"] = sum_rank"
   ]
  },
  {
   "cell_type": "markdown",
   "id": "4a11b341",
   "metadata": {},
   "source": [
    "Tri dans l'ordre croissant"
   ]
  },
  {
   "cell_type": "code",
   "execution_count": 322,
   "id": "d17f6c3f",
   "metadata": {},
   "outputs": [],
   "source": [
    "pays_data_df = pays_data.sort_values(by=['SumRANK'])"
   ]
  },
  {
   "cell_type": "code",
   "execution_count": 323,
   "id": "b3bea44a",
   "metadata": {},
   "outputs": [
    {
     "data": {
      "text/html": [
       "<div>\n",
       "<style scoped>\n",
       "    .dataframe tbody tr th:only-of-type {\n",
       "        vertical-align: middle;\n",
       "    }\n",
       "\n",
       "    .dataframe tbody tr th {\n",
       "        vertical-align: top;\n",
       "    }\n",
       "\n",
       "    .dataframe thead th {\n",
       "        text-align: right;\n",
       "    }\n",
       "</style>\n",
       "<table border=\"1\" class=\"dataframe\">\n",
       "  <thead>\n",
       "    <tr style=\"text-align: right;\">\n",
       "      <th></th>\n",
       "      <th>MeanYears_Internet</th>\n",
       "      <th>MeanYears_Revenu</th>\n",
       "      <th>MeanYears_Inscription</th>\n",
       "      <th>MeanYears_Mortalite</th>\n",
       "      <th>rankInternet</th>\n",
       "      <th>rankRevenu</th>\n",
       "      <th>rankInscription</th>\n",
       "      <th>rankMortalite</th>\n",
       "      <th>SumRANK</th>\n",
       "    </tr>\n",
       "    <tr>\n",
       "      <th>Country Name</th>\n",
       "      <th></th>\n",
       "      <th></th>\n",
       "      <th></th>\n",
       "      <th></th>\n",
       "      <th></th>\n",
       "      <th></th>\n",
       "      <th></th>\n",
       "      <th></th>\n",
       "      <th></th>\n",
       "    </tr>\n",
       "  </thead>\n",
       "  <tbody>\n",
       "    <tr>\n",
       "      <th>Japan</th>\n",
       "      <td>78.032103</td>\n",
       "      <td>36100.000000</td>\n",
       "      <td>3882870.4</td>\n",
       "      <td>3.26</td>\n",
       "      <td>11.0</td>\n",
       "      <td>22.0</td>\n",
       "      <td>30.0</td>\n",
       "      <td>7.0</td>\n",
       "      <td>70.0</td>\n",
       "    </tr>\n",
       "    <tr>\n",
       "      <th>High income</th>\n",
       "      <td>71.959101</td>\n",
       "      <td>39902.222923</td>\n",
       "      <td>52831520.8</td>\n",
       "      <td>6.10</td>\n",
       "      <td>20.0</td>\n",
       "      <td>15.0</td>\n",
       "      <td>7.0</td>\n",
       "      <td>31.0</td>\n",
       "      <td>73.0</td>\n",
       "    </tr>\n",
       "  </tbody>\n",
       "</table>\n",
       "</div>"
      ],
      "text/plain": [
       "              MeanYears_Internet  MeanYears_Revenu  MeanYears_Inscription  \\\n",
       "Country Name                                                                \n",
       "Japan                  78.032103      36100.000000              3882870.4   \n",
       "High income            71.959101      39902.222923             52831520.8   \n",
       "\n",
       "              MeanYears_Mortalite  rankInternet  rankRevenu  rankInscription  \\\n",
       "Country Name                                                                   \n",
       "Japan                        3.26          11.0        22.0             30.0   \n",
       "High income                  6.10          20.0        15.0              7.0   \n",
       "\n",
       "              rankMortalite  SumRANK  \n",
       "Country Name                          \n",
       "Japan                   7.0     70.0  \n",
       "High income            31.0     73.0  "
      ]
     },
     "execution_count": 323,
     "metadata": {},
     "output_type": "execute_result"
    }
   ],
   "source": [
    "pays_data_df.head(2)"
   ]
  },
  {
   "cell_type": "markdown",
   "id": "ec03db5d",
   "metadata": {},
   "source": [
    "Reduction de la taille du Dataframe"
   ]
  },
  {
   "cell_type": "code",
   "execution_count": 325,
   "id": "e503450c",
   "metadata": {},
   "outputs": [],
   "source": [
    "pays_data_df1 = pays_data_df.head(12)"
   ]
  },
  {
   "cell_type": "code",
   "execution_count": 326,
   "id": "124dde85",
   "metadata": {},
   "outputs": [],
   "source": [
    "tuple_list = (pays_data_df1.index, pays_data_df1['SumRANK'])"
   ]
  },
  {
   "cell_type": "markdown",
   "id": "60f1aed5",
   "metadata": {},
   "source": [
    "# Boucle for"
   ]
  },
  {
   "cell_type": "code",
   "execution_count": 328,
   "id": "72aa8dd2",
   "metadata": {},
   "outputs": [
    {
     "name": "stdout",
     "output_type": "stream",
     "text": [
      "Index(['Japan', 'High income', 'Sweden', 'North America', 'Euro area',\n",
      "       'United States', 'Korea, Rep.', 'Netherlands', 'Norway', 'Finland',\n",
      "       'France', 'European Union'],\n",
      "      dtype='object', name='Country Name')\n",
      "Country Name\n",
      "Japan             70.0\n",
      "High income       73.0\n",
      "Sweden            76.0\n",
      "North America     77.0\n",
      "Euro area         79.0\n",
      "United States     82.0\n",
      "Korea, Rep.       85.5\n",
      "Netherlands       86.0\n",
      "Norway            88.0\n",
      "Finland           90.0\n",
      "France            91.0\n",
      "European Union    93.0\n",
      "Name: SumRANK, dtype: float64\n"
     ]
    }
   ],
   "source": [
    "for it in tuple_list:\n",
    "    print(it)"
   ]
  },
  {
   "cell_type": "code",
   "execution_count": 329,
   "id": "fe2c0f1b",
   "metadata": {},
   "outputs": [
    {
     "data": {
      "text/html": [
       "<div>\n",
       "<style scoped>\n",
       "    .dataframe tbody tr th:only-of-type {\n",
       "        vertical-align: middle;\n",
       "    }\n",
       "\n",
       "    .dataframe tbody tr th {\n",
       "        vertical-align: top;\n",
       "    }\n",
       "\n",
       "    .dataframe thead th {\n",
       "        text-align: right;\n",
       "    }\n",
       "</style>\n",
       "<table border=\"1\" class=\"dataframe\">\n",
       "  <thead>\n",
       "    <tr style=\"text-align: right;\">\n",
       "      <th></th>\n",
       "      <th>MeanYears_Internet</th>\n",
       "      <th>MeanYears_Revenu</th>\n",
       "      <th>MeanYears_Inscription</th>\n",
       "      <th>MeanYears_Mortalite</th>\n",
       "      <th>rankInternet</th>\n",
       "      <th>rankRevenu</th>\n",
       "      <th>rankInscription</th>\n",
       "      <th>rankMortalite</th>\n",
       "      <th>SumRANK</th>\n",
       "    </tr>\n",
       "    <tr>\n",
       "      <th>Country Name</th>\n",
       "      <th></th>\n",
       "      <th></th>\n",
       "      <th></th>\n",
       "      <th></th>\n",
       "      <th></th>\n",
       "      <th></th>\n",
       "      <th></th>\n",
       "      <th></th>\n",
       "      <th></th>\n",
       "    </tr>\n",
       "  </thead>\n",
       "  <tbody>\n",
       "    <tr>\n",
       "      <th>Japan</th>\n",
       "      <td>78.032103</td>\n",
       "      <td>36100.000000</td>\n",
       "      <td>3882870.4</td>\n",
       "      <td>3.260000</td>\n",
       "      <td>11.0</td>\n",
       "      <td>22.0</td>\n",
       "      <td>30.0</td>\n",
       "      <td>7.0</td>\n",
       "      <td>70.0</td>\n",
       "    </tr>\n",
       "    <tr>\n",
       "      <th>High income</th>\n",
       "      <td>71.959101</td>\n",
       "      <td>39902.222923</td>\n",
       "      <td>52831520.8</td>\n",
       "      <td>6.100000</td>\n",
       "      <td>20.0</td>\n",
       "      <td>15.0</td>\n",
       "      <td>7.0</td>\n",
       "      <td>31.0</td>\n",
       "      <td>73.0</td>\n",
       "    </tr>\n",
       "    <tr>\n",
       "      <th>Sweden</th>\n",
       "      <td>91.389995</td>\n",
       "      <td>43508.000000</td>\n",
       "      <td>440268.4</td>\n",
       "      <td>3.060000</td>\n",
       "      <td>3.0</td>\n",
       "      <td>11.0</td>\n",
       "      <td>58.0</td>\n",
       "      <td>4.0</td>\n",
       "      <td>76.0</td>\n",
       "    </tr>\n",
       "    <tr>\n",
       "      <th>North America</th>\n",
       "      <td>73.057953</td>\n",
       "      <td>48696.272419</td>\n",
       "      <td>21318616.0</td>\n",
       "      <td>7.173221</td>\n",
       "      <td>17.0</td>\n",
       "      <td>8.0</td>\n",
       "      <td>15.0</td>\n",
       "      <td>37.0</td>\n",
       "      <td>77.0</td>\n",
       "    </tr>\n",
       "    <tr>\n",
       "      <th>Euro area</th>\n",
       "      <td>69.820692</td>\n",
       "      <td>36440.023508</td>\n",
       "      <td>12651184.6</td>\n",
       "      <td>4.197588</td>\n",
       "      <td>24.0</td>\n",
       "      <td>20.0</td>\n",
       "      <td>20.0</td>\n",
       "      <td>15.0</td>\n",
       "      <td>79.0</td>\n",
       "    </tr>\n",
       "    <tr>\n",
       "      <th>United States</th>\n",
       "      <td>72.223892</td>\n",
       "      <td>49666.000000</td>\n",
       "      <td>19957776.8</td>\n",
       "      <td>7.320000</td>\n",
       "      <td>19.0</td>\n",
       "      <td>7.0</td>\n",
       "      <td>18.0</td>\n",
       "      <td>38.0</td>\n",
       "      <td>82.0</td>\n",
       "    </tr>\n",
       "    <tr>\n",
       "      <th>Korea, Rep.</th>\n",
       "      <td>82.825824</td>\n",
       "      <td>30230.000000</td>\n",
       "      <td>3281757.0</td>\n",
       "      <td>4.160000</td>\n",
       "      <td>9.0</td>\n",
       "      <td>29.0</td>\n",
       "      <td>34.0</td>\n",
       "      <td>13.5</td>\n",
       "      <td>85.5</td>\n",
       "    </tr>\n",
       "    <tr>\n",
       "      <th>Netherlands</th>\n",
       "      <td>90.409998</td>\n",
       "      <td>45730.000000</td>\n",
       "      <td>689077.0</td>\n",
       "      <td>4.480000</td>\n",
       "      <td>4.0</td>\n",
       "      <td>10.0</td>\n",
       "      <td>53.0</td>\n",
       "      <td>19.0</td>\n",
       "      <td>86.0</td>\n",
       "    </tr>\n",
       "    <tr>\n",
       "      <th>Norway</th>\n",
       "      <td>92.835992</td>\n",
       "      <td>60870.000000</td>\n",
       "      <td>224925.4</td>\n",
       "      <td>3.240000</td>\n",
       "      <td>2.0</td>\n",
       "      <td>5.0</td>\n",
       "      <td>75.0</td>\n",
       "      <td>6.0</td>\n",
       "      <td>88.0</td>\n",
       "    </tr>\n",
       "    <tr>\n",
       "      <th>Finland</th>\n",
       "      <td>86.327999</td>\n",
       "      <td>39886.000000</td>\n",
       "      <td>305430.6</td>\n",
       "      <td>3.040000</td>\n",
       "      <td>6.0</td>\n",
       "      <td>16.0</td>\n",
       "      <td>65.0</td>\n",
       "      <td>3.0</td>\n",
       "      <td>90.0</td>\n",
       "    </tr>\n",
       "    <tr>\n",
       "      <th>France</th>\n",
       "      <td>75.760000</td>\n",
       "      <td>36912.000000</td>\n",
       "      <td>2227648.8</td>\n",
       "      <td>4.220000</td>\n",
       "      <td>14.0</td>\n",
       "      <td>18.0</td>\n",
       "      <td>42.0</td>\n",
       "      <td>17.0</td>\n",
       "      <td>91.0</td>\n",
       "    </tr>\n",
       "    <tr>\n",
       "      <th>European Union</th>\n",
       "      <td>69.458421</td>\n",
       "      <td>33543.042200</td>\n",
       "      <td>20085700.4</td>\n",
       "      <td>5.136945</td>\n",
       "      <td>25.0</td>\n",
       "      <td>26.0</td>\n",
       "      <td>17.0</td>\n",
       "      <td>25.0</td>\n",
       "      <td>93.0</td>\n",
       "    </tr>\n",
       "  </tbody>\n",
       "</table>\n",
       "</div>"
      ],
      "text/plain": [
       "                MeanYears_Internet  MeanYears_Revenu  MeanYears_Inscription  \\\n",
       "Country Name                                                                  \n",
       "Japan                    78.032103      36100.000000              3882870.4   \n",
       "High income              71.959101      39902.222923             52831520.8   \n",
       "Sweden                   91.389995      43508.000000               440268.4   \n",
       "North America            73.057953      48696.272419             21318616.0   \n",
       "Euro area                69.820692      36440.023508             12651184.6   \n",
       "United States            72.223892      49666.000000             19957776.8   \n",
       "Korea, Rep.              82.825824      30230.000000              3281757.0   \n",
       "Netherlands              90.409998      45730.000000               689077.0   \n",
       "Norway                   92.835992      60870.000000               224925.4   \n",
       "Finland                  86.327999      39886.000000               305430.6   \n",
       "France                   75.760000      36912.000000              2227648.8   \n",
       "European Union           69.458421      33543.042200             20085700.4   \n",
       "\n",
       "                MeanYears_Mortalite  rankInternet  rankRevenu  \\\n",
       "Country Name                                                    \n",
       "Japan                      3.260000          11.0        22.0   \n",
       "High income                6.100000          20.0        15.0   \n",
       "Sweden                     3.060000           3.0        11.0   \n",
       "North America              7.173221          17.0         8.0   \n",
       "Euro area                  4.197588          24.0        20.0   \n",
       "United States              7.320000          19.0         7.0   \n",
       "Korea, Rep.                4.160000           9.0        29.0   \n",
       "Netherlands                4.480000           4.0        10.0   \n",
       "Norway                     3.240000           2.0         5.0   \n",
       "Finland                    3.040000           6.0        16.0   \n",
       "France                     4.220000          14.0        18.0   \n",
       "European Union             5.136945          25.0        26.0   \n",
       "\n",
       "                rankInscription  rankMortalite  SumRANK  \n",
       "Country Name                                             \n",
       "Japan                      30.0            7.0     70.0  \n",
       "High income                 7.0           31.0     73.0  \n",
       "Sweden                     58.0            4.0     76.0  \n",
       "North America              15.0           37.0     77.0  \n",
       "Euro area                  20.0           15.0     79.0  \n",
       "United States              18.0           38.0     82.0  \n",
       "Korea, Rep.                34.0           13.5     85.5  \n",
       "Netherlands                53.0           19.0     86.0  \n",
       "Norway                     75.0            6.0     88.0  \n",
       "Finland                    65.0            3.0     90.0  \n",
       "France                     42.0           17.0     91.0  \n",
       "European Union             17.0           25.0     93.0  "
      ]
     },
     "execution_count": 329,
     "metadata": {},
     "output_type": "execute_result"
    }
   ],
   "source": [
    "pays_data_df1"
   ]
  },
  {
   "cell_type": "markdown",
   "id": "9e6991ce",
   "metadata": {},
   "source": [
    "On selectionne 3 pays et 3 zones géographique possédant les meilleurs rangs"
   ]
  },
  {
   "cell_type": "code",
   "execution_count": 330,
   "id": "751eb6f1",
   "metadata": {},
   "outputs": [],
   "source": [
    "pays_list = ['Japan','Sweden','United States']\n",
    "zone_list = ['European Union','North America','Euro area']"
   ]
  },
  {
   "cell_type": "code",
   "execution_count": 331,
   "id": "35de3b5f",
   "metadata": {},
   "outputs": [
    {
     "data": {
      "text/plain": [
       "<AxesSubplot:xlabel='Country Name'>"
      ]
     },
     "execution_count": 331,
     "metadata": {},
     "output_type": "execute_result"
    },
    {
     "data": {
      "image/png": "[encoded data removed]",
      "text/plain": [
       "<Figure size 432x288 with 1 Axes>"
      ]
     },
     "metadata": {
      "needs_background": "light"
     },
     "output_type": "display_data"
    }
   ],
   "source": [
    "#Bar chart représentant la somme des rangs des indicateurs sélectionnés par pays\n",
    "pays_data_df1.loc[pays_list].sort_values('SumRANK', ascending=False).plot.bar(y='SumRANK', rot=1, subplots=False)"
   ]
  },
  {
   "cell_type": "code",
   "execution_count": 332,
   "id": "73f92097",
   "metadata": {},
   "outputs": [
    {
     "data": {
      "text/plain": [
       "<AxesSubplot:xlabel='Country Name'>"
      ]
     },
     "execution_count": 332,
     "metadata": {},
     "output_type": "execute_result"
    },
    {
     "data": {
      "image/png": "[encoded data removed]",
      "text/plain": [
       "<Figure size 432x288 with 1 Axes>"
      ]
     },
     "metadata": {
      "needs_background": "light"
     },
     "output_type": "display_data"
    }
   ],
   "source": [
    "#Bar chart représentant la somme des rangs des indicateurs sélectionnés par zones\n",
    "pays_data_df1.loc[zone_list].plot.bar(y='SumRANK', rot=1)"
   ]
  },
  {
   "cell_type": "code",
   "execution_count": 333,
   "id": "f36ac5a6",
   "metadata": {},
   "outputs": [
    {
     "data": {
      "text/plain": [
       "<AxesSubplot:xlabel='Country Name'>"
      ]
     },
     "execution_count": 333,
     "metadata": {},
     "output_type": "execute_result"
    },
    {
     "data": {
      "image/png": "[encoded data removed]",
      "text/plain": [
       "<Figure size 432x288 with 1 Axes>"
      ]
     },
     "metadata": {
      "needs_background": "light"
     },
     "output_type": "display_data"
    }
   ],
   "source": [
    "#Bar chart représentant la moyenne des revenus par pays\n",
    "pays_data_df1.loc[pays_list].plot.bar(y='MeanYears_Revenu', rot=1)"
   ]
  },
  {
   "cell_type": "code",
   "execution_count": 334,
   "id": "c4c7bfc2",
   "metadata": {},
   "outputs": [
    {
     "data": {
      "text/plain": [
       "<AxesSubplot:xlabel='Country Name'>"
      ]
     },
     "execution_count": 334,
     "metadata": {},
     "output_type": "execute_result"
    },
    {
     "data": {
      "image/png": "[encoded data removed]",
      "text/plain": [
       "<Figure size 432x288 with 1 Axes>"
      ]
     },
     "metadata": {
      "needs_background": "light"
     },
     "output_type": "display_data"
    }
   ],
   "source": [
    "#Bar chart représentant la moyenne de nombre d'utilisateur d'internet par pays\n",
    "pays_data_df1.loc[pays_list].plot.bar(y='MeanYears_Internet', rot=1)"
   ]
  },
  {
   "cell_type": "code",
   "execution_count": 335,
   "id": "b6caa0c0",
   "metadata": {},
   "outputs": [
    {
     "data": {
      "text/plain": [
       "<AxesSubplot:xlabel='Country Name'>"
      ]
     },
     "execution_count": 335,
     "metadata": {},
     "output_type": "execute_result"
    },
    {
     "data": {
      "image/png": "[encoded data removed]",
      "text/plain": [
       "<Figure size 432x288 with 1 Axes>"
      ]
     },
     "metadata": {
      "needs_background": "light"
     },
     "output_type": "display_data"
    }
   ],
   "source": [
    "#Bar chart représentant la moyenne des inscrptions par pays\n",
    "pays_data_df1.loc[pays_list].plot.bar(y='MeanYears_Inscription', rot=1)"
   ]
  },
  {
   "cell_type": "code",
   "execution_count": 72,
   "id": "28175548",
   "metadata": {},
   "outputs": [],
   "source": [
    "tuple_list1 = (pays_data.index)\n",
    "pd.set_option('display.max_rows', None)"
   ]
  },
  {
   "cell_type": "code",
   "execution_count": 73,
   "id": "99649b12",
   "metadata": {},
   "outputs": [
    {
     "name": "stdout",
     "output_type": "stream",
     "text": [
      "Albania\n",
      "Arab World\n",
      "Argentina\n",
      "Armenia\n",
      "Australia\n",
      "Austria\n",
      "Azerbaijan\n",
      "Belarus\n",
      "Belgium\n",
      "Belize\n",
      "Benin\n",
      "Bhutan\n",
      "Bosnia and Herzegovina\n",
      "Botswana\n",
      "Brazil\n",
      "Brunei Darussalam\n",
      "Bulgaria\n",
      "Burkina Faso\n",
      "Burundi\n",
      "Cabo Verde\n",
      "Cameroon\n",
      "Central African Republic\n",
      "Chile\n",
      "China\n",
      "Colombia\n",
      "Croatia\n",
      "Cyprus\n",
      "Czech Republic\n",
      "Denmark\n",
      "East Asia & Pacific\n",
      "East Asia & Pacific (excluding high income)\n",
      "Egypt, Arab Rep.\n",
      "El Salvador\n",
      "Estonia\n",
      "Ethiopia\n",
      "Euro area\n",
      "Europe & Central Asia\n",
      "Europe & Central Asia (excluding high income)\n",
      "European Union\n",
      "Finland\n",
      "France\n",
      "Georgia\n",
      "Guinea\n",
      "Guyana\n",
      "Heavily indebted poor countries (HIPC)\n",
      "High income\n",
      "Hungary\n",
      "Iceland\n",
      "India\n",
      "Indonesia\n",
      "Iran, Islamic Rep.\n",
      "Ireland\n",
      "Israel\n",
      "Italy\n",
      "Jamaica\n",
      "Japan\n",
      "Jordan\n",
      "Korea, Rep.\n",
      "Kyrgyz Republic\n",
      "Lao PDR\n",
      "Latin America & Caribbean\n",
      "Latin America & Caribbean (excluding high income)\n",
      "Latvia\n",
      "Least developed countries: UN classification\n",
      "Lebanon\n",
      "Lithuania\n",
      "Low & middle income\n",
      "Low income\n",
      "Lower middle income\n",
      "Madagascar\n",
      "Malaysia\n",
      "Mali\n",
      "Malta\n",
      "Mauritania\n",
      "Mauritius\n",
      "Mexico\n",
      "Middle East & North Africa\n",
      "Middle East & North Africa (excluding high income)\n",
      "Middle income\n",
      "Moldova\n",
      "Mongolia\n",
      "Morocco\n",
      "Mozambique\n",
      "Netherlands\n",
      "New Zealand\n",
      "Niger\n",
      "North America\n",
      "Norway\n",
      "OECD members\n",
      "Panama\n",
      "Philippines\n",
      "Poland\n",
      "Portugal\n",
      "Qatar\n",
      "Romania\n",
      "Rwanda\n",
      "Saudi Arabia\n",
      "Senegal\n",
      "Serbia\n",
      "Singapore\n",
      "Slovak Republic\n",
      "Slovenia\n",
      "South Asia\n",
      "Spain\n",
      "St. Lucia\n",
      "Sub-Saharan Africa\n",
      "Sub-Saharan Africa (excluding high income)\n",
      "Sweden\n",
      "Switzerland\n",
      "Tajikistan\n",
      "Thailand\n",
      "Tunisia\n",
      "Turkey\n",
      "Uganda\n",
      "Ukraine\n",
      "United Arab Emirates\n",
      "United Kingdom\n",
      "United States\n",
      "Upper middle income\n",
      "Uzbekistan\n",
      "Vietnam\n",
      "World\n"
     ]
    }
   ],
   "source": [
    "for it in tuple_list1:\n",
    "    print(it)"
   ]
  },
  {
   "cell_type": "code",
   "execution_count": 336,
   "id": "bfec087c",
   "metadata": {},
   "outputs": [],
   "source": [
    "#zone_list = ['Arab World','East Asia & Pacific','East Asia & Pacific (excluding high income)','Euro area','Europe & Central Asia','Europe & Central Asia (excluding high income)','European Union','Latin America & Caribbean','Latin America & Caribbean (excluding high income)','Middle East & North Africa','Middle East & North Africa (excluding high income)','North America','South Asia','Sub-Saharan Africa','Sub-Saharan Africa (excluding high income)']\n",
    "zone_list = ['Arab World','East Asia & Pacific','Euro area','Europe & Central Asia','European Union','Latin America & Caribbean','Middle East & North Africa','North America','South Asia','Sub-Saharan Africa']"
   ]
  },
  {
   "cell_type": "code",
   "execution_count": 337,
   "id": "093ec743",
   "metadata": {},
   "outputs": [
    {
     "data": {
      "text/plain": [
       "<AxesSubplot:xlabel='Country Name'>"
      ]
     },
     "execution_count": 337,
     "metadata": {},
     "output_type": "execute_result"
    },
    {
     "data": {
      "image/png": "[encoded data removed]",
      "text/plain": [
       "<Figure size 432x288 with 1 Axes>"
      ]
     },
     "metadata": {
      "needs_background": "light"
     },
     "output_type": "display_data"
    }
   ],
   "source": [
    "pays_data.loc[zone_list].sort_values('MeanYears_Revenu', ascending=False).plot.bar(y='MeanYears_Revenu', rot=50, subplots=False)"
   ]
  },
  {
   "cell_type": "code",
   "execution_count": null,
   "id": "9e7a1523",
   "metadata": {},
   "outputs": [],
   "source": []
  }
 ],
 "metadata": {
  "celltoolbar": "Aucun(e)",
  "kernelspec": {
   "display_name": "Python 3 (ipykernel)",
   "language": "python",
   "name": "python3"
  },
  "language_info": {
   "codemirror_mode": {
    "name": "ipython",
    "version": 3
   },
   "file_extension": ".py",
   "mimetype": "text/x-python",
   "name": "python",
   "nbconvert_exporter": "python",
   "pygments_lexer": "ipython3",
   "version": "3.9.7"
  }
 },
 "nbformat": 4,
 "nbformat_minor": 5
}
